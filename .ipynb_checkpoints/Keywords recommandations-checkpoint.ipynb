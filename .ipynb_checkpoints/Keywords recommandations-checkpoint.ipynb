{
 "cells": [
  {
   "cell_type": "markdown",
   "metadata": {
    "toc": true
   },
   "source": [
    "<h1>Table of Contents<span class=\"tocSkip\"></span></h1>\n",
    "<div class=\"toc\"><ul class=\"toc-item\"><li><span><a href=\"#Get-data\" data-toc-modified-id=\"Get-data-1\"><span class=\"toc-item-num\">1&nbsp;&nbsp;</span>Get data</a></span></li><li><span><a href=\"#Data-cleaning\" data-toc-modified-id=\"Data-cleaning-2\"><span class=\"toc-item-num\">2&nbsp;&nbsp;</span>Data cleaning</a></span></li><li><span><a href=\"#First-try:--clustering\" data-toc-modified-id=\"First-try:--clustering-3\"><span class=\"toc-item-num\">3&nbsp;&nbsp;</span>First try:  clustering</a></span></li><li><span><a href=\"#Tf-idf-+-Cosine-similarity\" data-toc-modified-id=\"Tf-idf-+-Cosine-similarity-4\"><span class=\"toc-item-num\">4&nbsp;&nbsp;</span>Tf-idf + Cosine similarity</a></span><ul class=\"toc-item\"><li><span><a href=\"#Preparation\" data-toc-modified-id=\"Preparation-4.1\"><span class=\"toc-item-num\">4.1&nbsp;&nbsp;</span>Preparation</a></span></li><li><span><a href=\"#Step-by-step---how-to-use-tf-idf-to-match-on-keywords\" data-toc-modified-id=\"Step-by-step---how-to-use-tf-idf-to-match-on-keywords-4.2\"><span class=\"toc-item-num\">4.2&nbsp;&nbsp;</span>Step by step - how to use tf-idf to match on keywords</a></span></li><li><span><a href=\"#Tests\" data-toc-modified-id=\"Tests-4.3\"><span class=\"toc-item-num\">4.3&nbsp;&nbsp;</span>Tests</a></span></li><li><span><a href=\"#Including-meta-data-in-the-results\" data-toc-modified-id=\"Including-meta-data-in-the-results-4.4\"><span class=\"toc-item-num\">4.4&nbsp;&nbsp;</span>Including meta data in the results</a></span></li></ul></li><li><span><a href=\"#Tf-idf-+-Jaccard-similarity\" data-toc-modified-id=\"Tf-idf-+-Jaccard-similarity-5\"><span class=\"toc-item-num\">5&nbsp;&nbsp;</span>Tf-idf + Jaccard similarity</a></span></li><li><span><a href=\"#Using-more-keywords\" data-toc-modified-id=\"Using-more-keywords-6\"><span class=\"toc-item-num\">6&nbsp;&nbsp;</span>Using more keywords</a></span><ul class=\"toc-item\"><li><span><a href=\"#Recommandations-with-input-being-a-movie-title\" data-toc-modified-id=\"Recommandations-with-input-being-a-movie-title-6.1\"><span class=\"toc-item-num\">6.1&nbsp;&nbsp;</span>Recommandations with input being a movie title</a></span></li><li><span><a href=\"#Recommandations-with-input-being-keywords\" data-toc-modified-id=\"Recommandations-with-input-being-keywords-6.2\"><span class=\"toc-item-num\">6.2&nbsp;&nbsp;</span>Recommandations with input being keywords</a></span></li></ul></li></ul></div>"
   ]
  },
  {
   "cell_type": "code",
   "execution_count": 1,
   "metadata": {},
   "outputs": [],
   "source": [
    "import pandas as pd\n",
    "import ast\n",
    "pd.set_option('display.max_colwidth', 500)\n",
    "pd.set_option('max_rows', 2500)\n",
    "import numpy as np\n",
    "import re"
   ]
  },
  {
   "cell_type": "markdown",
   "metadata": {
    "heading_collapsed": true
   },
   "source": [
    "# Get data"
   ]
  },
  {
   "cell_type": "code",
   "execution_count": 2,
   "metadata": {
    "hidden": true
   },
   "outputs": [
    {
     "data": {
      "text/html": [
       "<div>\n",
       "<style scoped>\n",
       "    .dataframe tbody tr th:only-of-type {\n",
       "        vertical-align: middle;\n",
       "    }\n",
       "\n",
       "    .dataframe tbody tr th {\n",
       "        vertical-align: top;\n",
       "    }\n",
       "\n",
       "    .dataframe thead th {\n",
       "        text-align: right;\n",
       "    }\n",
       "</style>\n",
       "<table border=\"1\" class=\"dataframe\">\n",
       "  <thead>\n",
       "    <tr style=\"text-align: right;\">\n",
       "      <th></th>\n",
       "      <th>id</th>\n",
       "      <th>keywords</th>\n",
       "    </tr>\n",
       "  </thead>\n",
       "  <tbody>\n",
       "    <tr>\n",
       "      <th>0</th>\n",
       "      <td>862</td>\n",
       "      <td>[{'id': 931, 'name': 'jealousy'}, {'id': 4290, 'name': 'toy'}, {'id': 5202, 'name': 'boy'}, {'id': 6054, 'name': 'friendship'}, {'id': 9713, 'name': 'friends'}, {'id': 9823, 'name': 'rivalry'}, {'id': 165503, 'name': 'boy next door'}, {'id': 170722, 'name': 'new toy'}, {'id': 187065, 'name': 'toy comes to life'}]</td>\n",
       "    </tr>\n",
       "    <tr>\n",
       "      <th>1</th>\n",
       "      <td>8844</td>\n",
       "      <td>[{'id': 10090, 'name': 'board game'}, {'id': 10941, 'name': 'disappearance'}, {'id': 15101, 'name': \"based on children's book\"}, {'id': 33467, 'name': 'new home'}, {'id': 158086, 'name': 'recluse'}, {'id': 158091, 'name': 'giant insect'}]</td>\n",
       "    </tr>\n",
       "    <tr>\n",
       "      <th>2</th>\n",
       "      <td>15602</td>\n",
       "      <td>[{'id': 1495, 'name': 'fishing'}, {'id': 12392, 'name': 'best friend'}, {'id': 179431, 'name': 'duringcreditsstinger'}, {'id': 208510, 'name': 'old men'}]</td>\n",
       "    </tr>\n",
       "    <tr>\n",
       "      <th>3</th>\n",
       "      <td>31357</td>\n",
       "      <td>[{'id': 818, 'name': 'based on novel'}, {'id': 10131, 'name': 'interracial relationship'}, {'id': 14768, 'name': 'single mother'}, {'id': 15160, 'name': 'divorce'}, {'id': 33455, 'name': 'chick flick'}]</td>\n",
       "    </tr>\n",
       "    <tr>\n",
       "      <th>4</th>\n",
       "      <td>11862</td>\n",
       "      <td>[{'id': 1009, 'name': 'baby'}, {'id': 1599, 'name': 'midlife crisis'}, {'id': 2246, 'name': 'confidence'}, {'id': 4995, 'name': 'aging'}, {'id': 5600, 'name': 'daughter'}, {'id': 10707, 'name': 'mother daughter relationship'}, {'id': 13149, 'name': 'pregnancy'}, {'id': 33358, 'name': 'contraception'}, {'id': 170521, 'name': 'gynecologist'}]</td>\n",
       "    </tr>\n",
       "  </tbody>\n",
       "</table>\n",
       "</div>"
      ],
      "text/plain": [
       "      id  \\\n",
       "0    862   \n",
       "1   8844   \n",
       "2  15602   \n",
       "3  31357   \n",
       "4  11862   \n",
       "\n",
       "                                                                                                                                                                                                                                                                                                                                                 keywords  \n",
       "0                              [{'id': 931, 'name': 'jealousy'}, {'id': 4290, 'name': 'toy'}, {'id': 5202, 'name': 'boy'}, {'id': 6054, 'name': 'friendship'}, {'id': 9713, 'name': 'friends'}, {'id': 9823, 'name': 'rivalry'}, {'id': 165503, 'name': 'boy next door'}, {'id': 170722, 'name': 'new toy'}, {'id': 187065, 'name': 'toy comes to life'}]  \n",
       "1                                                                                                          [{'id': 10090, 'name': 'board game'}, {'id': 10941, 'name': 'disappearance'}, {'id': 15101, 'name': \"based on children's book\"}, {'id': 33467, 'name': 'new home'}, {'id': 158086, 'name': 'recluse'}, {'id': 158091, 'name': 'giant insect'}]  \n",
       "2                                                                                                                                                                                              [{'id': 1495, 'name': 'fishing'}, {'id': 12392, 'name': 'best friend'}, {'id': 179431, 'name': 'duringcreditsstinger'}, {'id': 208510, 'name': 'old men'}]  \n",
       "3                                                                                                                                              [{'id': 818, 'name': 'based on novel'}, {'id': 10131, 'name': 'interracial relationship'}, {'id': 14768, 'name': 'single mother'}, {'id': 15160, 'name': 'divorce'}, {'id': 33455, 'name': 'chick flick'}]  \n",
       "4  [{'id': 1009, 'name': 'baby'}, {'id': 1599, 'name': 'midlife crisis'}, {'id': 2246, 'name': 'confidence'}, {'id': 4995, 'name': 'aging'}, {'id': 5600, 'name': 'daughter'}, {'id': 10707, 'name': 'mother daughter relationship'}, {'id': 13149, 'name': 'pregnancy'}, {'id': 33358, 'name': 'contraception'}, {'id': 170521, 'name': 'gynecologist'}]  "
      ]
     },
     "execution_count": 2,
     "metadata": {},
     "output_type": "execute_result"
    }
   ],
   "source": [
    "keywords=pd.read_csv('/Users/etienneleconte/Downloads/archive (6)/keywords.csv')\n",
    "keywords.head()"
   ]
  },
  {
   "cell_type": "code",
   "execution_count": 3,
   "metadata": {
    "hidden": true
   },
   "outputs": [
    {
     "name": "stdout",
     "output_type": "stream",
     "text": [
      "<class 'pandas.core.frame.DataFrame'>\n",
      "RangeIndex: 46419 entries, 0 to 46418\n",
      "Data columns (total 2 columns):\n",
      " #   Column    Non-Null Count  Dtype \n",
      "---  ------    --------------  ----- \n",
      " 0   id        46419 non-null  int64 \n",
      " 1   keywords  46419 non-null  object\n",
      "dtypes: int64(1), object(1)\n",
      "memory usage: 725.4+ KB\n"
     ]
    }
   ],
   "source": [
    "keywords.info()"
   ]
  },
  {
   "cell_type": "code",
   "execution_count": 4,
   "metadata": {
    "hidden": true
   },
   "outputs": [
    {
     "data": {
      "text/html": [
       "<div>\n",
       "<style scoped>\n",
       "    .dataframe tbody tr th:only-of-type {\n",
       "        vertical-align: middle;\n",
       "    }\n",
       "\n",
       "    .dataframe tbody tr th {\n",
       "        vertical-align: top;\n",
       "    }\n",
       "\n",
       "    .dataframe thead th {\n",
       "        text-align: right;\n",
       "    }\n",
       "</style>\n",
       "<table border=\"1\" class=\"dataframe\">\n",
       "  <thead>\n",
       "    <tr style=\"text-align: right;\">\n",
       "      <th></th>\n",
       "      <th>movieId</th>\n",
       "      <th>imdbId</th>\n",
       "      <th>tmdbId</th>\n",
       "    </tr>\n",
       "  </thead>\n",
       "  <tbody>\n",
       "    <tr>\n",
       "      <th>0</th>\n",
       "      <td>1</td>\n",
       "      <td>114709</td>\n",
       "      <td>862.0</td>\n",
       "    </tr>\n",
       "    <tr>\n",
       "      <th>1</th>\n",
       "      <td>2</td>\n",
       "      <td>113497</td>\n",
       "      <td>8844.0</td>\n",
       "    </tr>\n",
       "    <tr>\n",
       "      <th>2</th>\n",
       "      <td>3</td>\n",
       "      <td>113228</td>\n",
       "      <td>15602.0</td>\n",
       "    </tr>\n",
       "    <tr>\n",
       "      <th>3</th>\n",
       "      <td>4</td>\n",
       "      <td>114885</td>\n",
       "      <td>31357.0</td>\n",
       "    </tr>\n",
       "    <tr>\n",
       "      <th>4</th>\n",
       "      <td>5</td>\n",
       "      <td>113041</td>\n",
       "      <td>11862.0</td>\n",
       "    </tr>\n",
       "  </tbody>\n",
       "</table>\n",
       "</div>"
      ],
      "text/plain": [
       "   movieId  imdbId   tmdbId\n",
       "0        1  114709    862.0\n",
       "1        2  113497   8844.0\n",
       "2        3  113228  15602.0\n",
       "3        4  114885  31357.0\n",
       "4        5  113041  11862.0"
      ]
     },
     "execution_count": 4,
     "metadata": {},
     "output_type": "execute_result"
    }
   ],
   "source": [
    "links=pd.read_csv('/Users/etienneleconte/Downloads/archive (6)/links.csv')\n",
    "links.head()"
   ]
  },
  {
   "cell_type": "code",
   "execution_count": 5,
   "metadata": {
    "hidden": true
   },
   "outputs": [
    {
     "data": {
      "text/html": [
       "<div>\n",
       "<style scoped>\n",
       "    .dataframe tbody tr th:only-of-type {\n",
       "        vertical-align: middle;\n",
       "    }\n",
       "\n",
       "    .dataframe tbody tr th {\n",
       "        vertical-align: top;\n",
       "    }\n",
       "\n",
       "    .dataframe thead th {\n",
       "        text-align: right;\n",
       "    }\n",
       "</style>\n",
       "<table border=\"1\" class=\"dataframe\">\n",
       "  <thead>\n",
       "    <tr style=\"text-align: right;\">\n",
       "      <th></th>\n",
       "      <th>adult</th>\n",
       "      <th>belongs_to_collection</th>\n",
       "      <th>budget</th>\n",
       "      <th>genres</th>\n",
       "      <th>homepage</th>\n",
       "      <th>id</th>\n",
       "      <th>imdb_id</th>\n",
       "      <th>original_language</th>\n",
       "      <th>original_title</th>\n",
       "      <th>overview</th>\n",
       "      <th>...</th>\n",
       "      <th>release_date</th>\n",
       "      <th>revenue</th>\n",
       "      <th>runtime</th>\n",
       "      <th>spoken_languages</th>\n",
       "      <th>status</th>\n",
       "      <th>tagline</th>\n",
       "      <th>title</th>\n",
       "      <th>video</th>\n",
       "      <th>vote_average</th>\n",
       "      <th>vote_count</th>\n",
       "    </tr>\n",
       "  </thead>\n",
       "  <tbody>\n",
       "    <tr>\n",
       "      <th>0</th>\n",
       "      <td>False</td>\n",
       "      <td>{'id': 10194, 'name': 'Toy Story Collection', 'poster_path': '/7G9915LfUQ2lVfwMEEhDsn3kT4B.jpg', 'backdrop_path': '/9FBwqcd9IRruEDUrTdcaafOMKUq.jpg'}</td>\n",
       "      <td>30000000</td>\n",
       "      <td>[{'id': 16, 'name': 'Animation'}, {'id': 35, 'name': 'Comedy'}, {'id': 10751, 'name': 'Family'}]</td>\n",
       "      <td>http://toystory.disney.com/toy-story</td>\n",
       "      <td>862</td>\n",
       "      <td>tt0114709</td>\n",
       "      <td>en</td>\n",
       "      <td>Toy Story</td>\n",
       "      <td>Led by Woody, Andy's toys live happily in his room until Andy's birthday brings Buzz Lightyear onto the scene. Afraid of losing his place in Andy's heart, Woody plots against Buzz. But when circumstances separate Buzz and Woody from their owner, the duo eventually learns to put aside their differences.</td>\n",
       "      <td>...</td>\n",
       "      <td>1995-10-30</td>\n",
       "      <td>373554033.0</td>\n",
       "      <td>81.0</td>\n",
       "      <td>[{'iso_639_1': 'en', 'name': 'English'}]</td>\n",
       "      <td>Released</td>\n",
       "      <td>NaN</td>\n",
       "      <td>Toy Story</td>\n",
       "      <td>False</td>\n",
       "      <td>7.7</td>\n",
       "      <td>5415.0</td>\n",
       "    </tr>\n",
       "    <tr>\n",
       "      <th>1</th>\n",
       "      <td>False</td>\n",
       "      <td>NaN</td>\n",
       "      <td>65000000</td>\n",
       "      <td>[{'id': 12, 'name': 'Adventure'}, {'id': 14, 'name': 'Fantasy'}, {'id': 10751, 'name': 'Family'}]</td>\n",
       "      <td>NaN</td>\n",
       "      <td>8844</td>\n",
       "      <td>tt0113497</td>\n",
       "      <td>en</td>\n",
       "      <td>Jumanji</td>\n",
       "      <td>When siblings Judy and Peter discover an enchanted board game that opens the door to a magical world, they unwittingly invite Alan -- an adult who's been trapped inside the game for 26 years -- into their living room. Alan's only hope for freedom is to finish the game, which proves risky as all three find themselves running from giant rhinoceroses, evil monkeys and other terrifying creatures.</td>\n",
       "      <td>...</td>\n",
       "      <td>1995-12-15</td>\n",
       "      <td>262797249.0</td>\n",
       "      <td>104.0</td>\n",
       "      <td>[{'iso_639_1': 'en', 'name': 'English'}, {'iso_639_1': 'fr', 'name': 'Français'}]</td>\n",
       "      <td>Released</td>\n",
       "      <td>Roll the dice and unleash the excitement!</td>\n",
       "      <td>Jumanji</td>\n",
       "      <td>False</td>\n",
       "      <td>6.9</td>\n",
       "      <td>2413.0</td>\n",
       "    </tr>\n",
       "    <tr>\n",
       "      <th>2</th>\n",
       "      <td>False</td>\n",
       "      <td>{'id': 119050, 'name': 'Grumpy Old Men Collection', 'poster_path': '/nLvUdqgPgm3F85NMCii9gVFUcet.jpg', 'backdrop_path': '/hypTnLot2z8wpFS7qwsQHW1uV8u.jpg'}</td>\n",
       "      <td>0</td>\n",
       "      <td>[{'id': 10749, 'name': 'Romance'}, {'id': 35, 'name': 'Comedy'}]</td>\n",
       "      <td>NaN</td>\n",
       "      <td>15602</td>\n",
       "      <td>tt0113228</td>\n",
       "      <td>en</td>\n",
       "      <td>Grumpier Old Men</td>\n",
       "      <td>A family wedding reignites the ancient feud between next-door neighbors and fishing buddies John and Max. Meanwhile, a sultry Italian divorcée opens a restaurant at the local bait shop, alarming the locals who worry she'll scare the fish away. But she's less interested in seafood than she is in cooking up a hot time with Max.</td>\n",
       "      <td>...</td>\n",
       "      <td>1995-12-22</td>\n",
       "      <td>0.0</td>\n",
       "      <td>101.0</td>\n",
       "      <td>[{'iso_639_1': 'en', 'name': 'English'}]</td>\n",
       "      <td>Released</td>\n",
       "      <td>Still Yelling. Still Fighting. Still Ready for Love.</td>\n",
       "      <td>Grumpier Old Men</td>\n",
       "      <td>False</td>\n",
       "      <td>6.5</td>\n",
       "      <td>92.0</td>\n",
       "    </tr>\n",
       "    <tr>\n",
       "      <th>3</th>\n",
       "      <td>False</td>\n",
       "      <td>NaN</td>\n",
       "      <td>16000000</td>\n",
       "      <td>[{'id': 35, 'name': 'Comedy'}, {'id': 18, 'name': 'Drama'}, {'id': 10749, 'name': 'Romance'}]</td>\n",
       "      <td>NaN</td>\n",
       "      <td>31357</td>\n",
       "      <td>tt0114885</td>\n",
       "      <td>en</td>\n",
       "      <td>Waiting to Exhale</td>\n",
       "      <td>Cheated on, mistreated and stepped on, the women are holding their breath, waiting for the elusive \"good man\" to break a string of less-than-stellar lovers. Friends and confidants Vannah, Bernie, Glo and Robin talk it all out, determined to find a better way to breathe.</td>\n",
       "      <td>...</td>\n",
       "      <td>1995-12-22</td>\n",
       "      <td>81452156.0</td>\n",
       "      <td>127.0</td>\n",
       "      <td>[{'iso_639_1': 'en', 'name': 'English'}]</td>\n",
       "      <td>Released</td>\n",
       "      <td>Friends are the people who let you be yourself... and never let you forget it.</td>\n",
       "      <td>Waiting to Exhale</td>\n",
       "      <td>False</td>\n",
       "      <td>6.1</td>\n",
       "      <td>34.0</td>\n",
       "    </tr>\n",
       "    <tr>\n",
       "      <th>4</th>\n",
       "      <td>False</td>\n",
       "      <td>{'id': 96871, 'name': 'Father of the Bride Collection', 'poster_path': '/nts4iOmNnq7GNicycMJ9pSAn204.jpg', 'backdrop_path': '/7qwE57OVZmMJChBpLEbJEmzUydk.jpg'}</td>\n",
       "      <td>0</td>\n",
       "      <td>[{'id': 35, 'name': 'Comedy'}]</td>\n",
       "      <td>NaN</td>\n",
       "      <td>11862</td>\n",
       "      <td>tt0113041</td>\n",
       "      <td>en</td>\n",
       "      <td>Father of the Bride Part II</td>\n",
       "      <td>Just when George Banks has recovered from his daughter's wedding, he receives the news that she's pregnant ... and that George's wife, Nina, is expecting too. He was planning on selling their home, but that's a plan that -- like George -- will have to change with the arrival of both a grandchild and a kid of his own.</td>\n",
       "      <td>...</td>\n",
       "      <td>1995-02-10</td>\n",
       "      <td>76578911.0</td>\n",
       "      <td>106.0</td>\n",
       "      <td>[{'iso_639_1': 'en', 'name': 'English'}]</td>\n",
       "      <td>Released</td>\n",
       "      <td>Just When His World Is Back To Normal... He's In For The Surprise Of His Life!</td>\n",
       "      <td>Father of the Bride Part II</td>\n",
       "      <td>False</td>\n",
       "      <td>5.7</td>\n",
       "      <td>173.0</td>\n",
       "    </tr>\n",
       "  </tbody>\n",
       "</table>\n",
       "<p>5 rows × 24 columns</p>\n",
       "</div>"
      ],
      "text/plain": [
       "   adult  \\\n",
       "0  False   \n",
       "1  False   \n",
       "2  False   \n",
       "3  False   \n",
       "4  False   \n",
       "\n",
       "                                                                                                                                             belongs_to_collection  \\\n",
       "0            {'id': 10194, 'name': 'Toy Story Collection', 'poster_path': '/7G9915LfUQ2lVfwMEEhDsn3kT4B.jpg', 'backdrop_path': '/9FBwqcd9IRruEDUrTdcaafOMKUq.jpg'}   \n",
       "1                                                                                                                                                              NaN   \n",
       "2      {'id': 119050, 'name': 'Grumpy Old Men Collection', 'poster_path': '/nLvUdqgPgm3F85NMCii9gVFUcet.jpg', 'backdrop_path': '/hypTnLot2z8wpFS7qwsQHW1uV8u.jpg'}   \n",
       "3                                                                                                                                                              NaN   \n",
       "4  {'id': 96871, 'name': 'Father of the Bride Collection', 'poster_path': '/nts4iOmNnq7GNicycMJ9pSAn204.jpg', 'backdrop_path': '/7qwE57OVZmMJChBpLEbJEmzUydk.jpg'}   \n",
       "\n",
       "     budget  \\\n",
       "0  30000000   \n",
       "1  65000000   \n",
       "2         0   \n",
       "3  16000000   \n",
       "4         0   \n",
       "\n",
       "                                                                                              genres  \\\n",
       "0   [{'id': 16, 'name': 'Animation'}, {'id': 35, 'name': 'Comedy'}, {'id': 10751, 'name': 'Family'}]   \n",
       "1  [{'id': 12, 'name': 'Adventure'}, {'id': 14, 'name': 'Fantasy'}, {'id': 10751, 'name': 'Family'}]   \n",
       "2                                   [{'id': 10749, 'name': 'Romance'}, {'id': 35, 'name': 'Comedy'}]   \n",
       "3      [{'id': 35, 'name': 'Comedy'}, {'id': 18, 'name': 'Drama'}, {'id': 10749, 'name': 'Romance'}]   \n",
       "4                                                                     [{'id': 35, 'name': 'Comedy'}]   \n",
       "\n",
       "                               homepage     id    imdb_id original_language  \\\n",
       "0  http://toystory.disney.com/toy-story    862  tt0114709                en   \n",
       "1                                   NaN   8844  tt0113497                en   \n",
       "2                                   NaN  15602  tt0113228                en   \n",
       "3                                   NaN  31357  tt0114885                en   \n",
       "4                                   NaN  11862  tt0113041                en   \n",
       "\n",
       "                original_title  \\\n",
       "0                    Toy Story   \n",
       "1                      Jumanji   \n",
       "2             Grumpier Old Men   \n",
       "3            Waiting to Exhale   \n",
       "4  Father of the Bride Part II   \n",
       "\n",
       "                                                                                                                                                                                                                                                                                                                                                                                                      overview  \\\n",
       "0                                                                                              Led by Woody, Andy's toys live happily in his room until Andy's birthday brings Buzz Lightyear onto the scene. Afraid of losing his place in Andy's heart, Woody plots against Buzz. But when circumstances separate Buzz and Woody from their owner, the duo eventually learns to put aside their differences.   \n",
       "1  When siblings Judy and Peter discover an enchanted board game that opens the door to a magical world, they unwittingly invite Alan -- an adult who's been trapped inside the game for 26 years -- into their living room. Alan's only hope for freedom is to finish the game, which proves risky as all three find themselves running from giant rhinoceroses, evil monkeys and other terrifying creatures.   \n",
       "2                                                                      A family wedding reignites the ancient feud between next-door neighbors and fishing buddies John and Max. Meanwhile, a sultry Italian divorcée opens a restaurant at the local bait shop, alarming the locals who worry she'll scare the fish away. But she's less interested in seafood than she is in cooking up a hot time with Max.   \n",
       "3                                                                                                                               Cheated on, mistreated and stepped on, the women are holding their breath, waiting for the elusive \"good man\" to break a string of less-than-stellar lovers. Friends and confidants Vannah, Bernie, Glo and Robin talk it all out, determined to find a better way to breathe.   \n",
       "4                                                                               Just when George Banks has recovered from his daughter's wedding, he receives the news that she's pregnant ... and that George's wife, Nina, is expecting too. He was planning on selling their home, but that's a plan that -- like George -- will have to change with the arrival of both a grandchild and a kid of his own.   \n",
       "\n",
       "   ... release_date      revenue runtime  \\\n",
       "0  ...   1995-10-30  373554033.0    81.0   \n",
       "1  ...   1995-12-15  262797249.0   104.0   \n",
       "2  ...   1995-12-22          0.0   101.0   \n",
       "3  ...   1995-12-22   81452156.0   127.0   \n",
       "4  ...   1995-02-10   76578911.0   106.0   \n",
       "\n",
       "                                                                    spoken_languages  \\\n",
       "0                                           [{'iso_639_1': 'en', 'name': 'English'}]   \n",
       "1  [{'iso_639_1': 'en', 'name': 'English'}, {'iso_639_1': 'fr', 'name': 'Français'}]   \n",
       "2                                           [{'iso_639_1': 'en', 'name': 'English'}]   \n",
       "3                                           [{'iso_639_1': 'en', 'name': 'English'}]   \n",
       "4                                           [{'iso_639_1': 'en', 'name': 'English'}]   \n",
       "\n",
       "     status  \\\n",
       "0  Released   \n",
       "1  Released   \n",
       "2  Released   \n",
       "3  Released   \n",
       "4  Released   \n",
       "\n",
       "                                                                          tagline  \\\n",
       "0                                                                             NaN   \n",
       "1                                       Roll the dice and unleash the excitement!   \n",
       "2                            Still Yelling. Still Fighting. Still Ready for Love.   \n",
       "3  Friends are the people who let you be yourself... and never let you forget it.   \n",
       "4  Just When His World Is Back To Normal... He's In For The Surprise Of His Life!   \n",
       "\n",
       "                         title  video vote_average vote_count  \n",
       "0                    Toy Story  False          7.7     5415.0  \n",
       "1                      Jumanji  False          6.9     2413.0  \n",
       "2             Grumpier Old Men  False          6.5       92.0  \n",
       "3            Waiting to Exhale  False          6.1       34.0  \n",
       "4  Father of the Bride Part II  False          5.7      173.0  \n",
       "\n",
       "[5 rows x 24 columns]"
      ]
     },
     "execution_count": 5,
     "metadata": {},
     "output_type": "execute_result"
    }
   ],
   "source": [
    "mov_meta=pd.read_csv('/Users/etienneleconte/Downloads/archive (6)/movies_metadata.csv',low_memory=False)\n",
    "mov_meta.head()"
   ]
  },
  {
   "cell_type": "code",
   "execution_count": 6,
   "metadata": {
    "hidden": true
   },
   "outputs": [
    {
     "data": {
      "text/plain": [
       "(26024289, 4)"
      ]
     },
     "execution_count": 6,
     "metadata": {},
     "output_type": "execute_result"
    }
   ],
   "source": [
    "ratings=pd.read_csv('/Users/etienneleconte/Downloads/archive (6)/ratings.csv')\n",
    "ratings.shape"
   ]
  },
  {
   "cell_type": "code",
   "execution_count": 7,
   "metadata": {
    "hidden": true
   },
   "outputs": [
    {
     "data": {
      "text/html": [
       "<div>\n",
       "<style scoped>\n",
       "    .dataframe tbody tr th:only-of-type {\n",
       "        vertical-align: middle;\n",
       "    }\n",
       "\n",
       "    .dataframe tbody tr th {\n",
       "        vertical-align: top;\n",
       "    }\n",
       "\n",
       "    .dataframe thead th {\n",
       "        text-align: right;\n",
       "    }\n",
       "</style>\n",
       "<table border=\"1\" class=\"dataframe\">\n",
       "  <thead>\n",
       "    <tr style=\"text-align: right;\">\n",
       "      <th></th>\n",
       "      <th>userId</th>\n",
       "      <th>movieId</th>\n",
       "      <th>rating</th>\n",
       "      <th>timestamp</th>\n",
       "    </tr>\n",
       "  </thead>\n",
       "  <tbody>\n",
       "    <tr>\n",
       "      <th>0</th>\n",
       "      <td>1</td>\n",
       "      <td>110</td>\n",
       "      <td>1.0</td>\n",
       "      <td>1425941529</td>\n",
       "    </tr>\n",
       "    <tr>\n",
       "      <th>1</th>\n",
       "      <td>1</td>\n",
       "      <td>147</td>\n",
       "      <td>4.5</td>\n",
       "      <td>1425942435</td>\n",
       "    </tr>\n",
       "    <tr>\n",
       "      <th>2</th>\n",
       "      <td>1</td>\n",
       "      <td>858</td>\n",
       "      <td>5.0</td>\n",
       "      <td>1425941523</td>\n",
       "    </tr>\n",
       "    <tr>\n",
       "      <th>3</th>\n",
       "      <td>1</td>\n",
       "      <td>1221</td>\n",
       "      <td>5.0</td>\n",
       "      <td>1425941546</td>\n",
       "    </tr>\n",
       "    <tr>\n",
       "      <th>4</th>\n",
       "      <td>1</td>\n",
       "      <td>1246</td>\n",
       "      <td>5.0</td>\n",
       "      <td>1425941556</td>\n",
       "    </tr>\n",
       "  </tbody>\n",
       "</table>\n",
       "</div>"
      ],
      "text/plain": [
       "   userId  movieId  rating   timestamp\n",
       "0       1      110     1.0  1425941529\n",
       "1       1      147     4.5  1425942435\n",
       "2       1      858     5.0  1425941523\n",
       "3       1     1221     5.0  1425941546\n",
       "4       1     1246     5.0  1425941556"
      ]
     },
     "execution_count": 7,
     "metadata": {},
     "output_type": "execute_result"
    }
   ],
   "source": [
    "ratings.head()"
   ]
  },
  {
   "cell_type": "markdown",
   "metadata": {},
   "source": [
    "# Data cleaning"
   ]
  },
  {
   "cell_type": "code",
   "execution_count": 8,
   "metadata": {},
   "outputs": [
    {
     "data": {
      "text/html": [
       "<div>\n",
       "<style scoped>\n",
       "    .dataframe tbody tr th:only-of-type {\n",
       "        vertical-align: middle;\n",
       "    }\n",
       "\n",
       "    .dataframe tbody tr th {\n",
       "        vertical-align: top;\n",
       "    }\n",
       "\n",
       "    .dataframe thead th {\n",
       "        text-align: right;\n",
       "    }\n",
       "</style>\n",
       "<table border=\"1\" class=\"dataframe\">\n",
       "  <thead>\n",
       "    <tr style=\"text-align: right;\">\n",
       "      <th></th>\n",
       "      <th>id</th>\n",
       "      <th>keywords</th>\n",
       "    </tr>\n",
       "  </thead>\n",
       "  <tbody>\n",
       "    <tr>\n",
       "      <th>0</th>\n",
       "      <td>862</td>\n",
       "      <td>[{'id': 931, 'name': 'jealousy'}, {'id': 4290, 'name': 'toy'}, {'id': 5202, 'name': 'boy'}, {'id': 6054, 'name': 'friendship'}, {'id': 9713, 'name': 'friends'}, {'id': 9823, 'name': 'rivalry'}, {'id': 165503, 'name': 'boy next door'}, {'id': 170722, 'name': 'new toy'}, {'id': 187065, 'name': 'toy comes to life'}]</td>\n",
       "    </tr>\n",
       "    <tr>\n",
       "      <th>1</th>\n",
       "      <td>8844</td>\n",
       "      <td>[{'id': 10090, 'name': 'board game'}, {'id': 10941, 'name': 'disappearance'}, {'id': 15101, 'name': \"based on children's book\"}, {'id': 33467, 'name': 'new home'}, {'id': 158086, 'name': 'recluse'}, {'id': 158091, 'name': 'giant insect'}]</td>\n",
       "    </tr>\n",
       "    <tr>\n",
       "      <th>2</th>\n",
       "      <td>15602</td>\n",
       "      <td>[{'id': 1495, 'name': 'fishing'}, {'id': 12392, 'name': 'best friend'}, {'id': 179431, 'name': 'duringcreditsstinger'}, {'id': 208510, 'name': 'old men'}]</td>\n",
       "    </tr>\n",
       "    <tr>\n",
       "      <th>3</th>\n",
       "      <td>31357</td>\n",
       "      <td>[{'id': 818, 'name': 'based on novel'}, {'id': 10131, 'name': 'interracial relationship'}, {'id': 14768, 'name': 'single mother'}, {'id': 15160, 'name': 'divorce'}, {'id': 33455, 'name': 'chick flick'}]</td>\n",
       "    </tr>\n",
       "    <tr>\n",
       "      <th>4</th>\n",
       "      <td>11862</td>\n",
       "      <td>[{'id': 1009, 'name': 'baby'}, {'id': 1599, 'name': 'midlife crisis'}, {'id': 2246, 'name': 'confidence'}, {'id': 4995, 'name': 'aging'}, {'id': 5600, 'name': 'daughter'}, {'id': 10707, 'name': 'mother daughter relationship'}, {'id': 13149, 'name': 'pregnancy'}, {'id': 33358, 'name': 'contraception'}, {'id': 170521, 'name': 'gynecologist'}]</td>\n",
       "    </tr>\n",
       "  </tbody>\n",
       "</table>\n",
       "</div>"
      ],
      "text/plain": [
       "      id  \\\n",
       "0    862   \n",
       "1   8844   \n",
       "2  15602   \n",
       "3  31357   \n",
       "4  11862   \n",
       "\n",
       "                                                                                                                                                                                                                                                                                                                                                 keywords  \n",
       "0                              [{'id': 931, 'name': 'jealousy'}, {'id': 4290, 'name': 'toy'}, {'id': 5202, 'name': 'boy'}, {'id': 6054, 'name': 'friendship'}, {'id': 9713, 'name': 'friends'}, {'id': 9823, 'name': 'rivalry'}, {'id': 165503, 'name': 'boy next door'}, {'id': 170722, 'name': 'new toy'}, {'id': 187065, 'name': 'toy comes to life'}]  \n",
       "1                                                                                                          [{'id': 10090, 'name': 'board game'}, {'id': 10941, 'name': 'disappearance'}, {'id': 15101, 'name': \"based on children's book\"}, {'id': 33467, 'name': 'new home'}, {'id': 158086, 'name': 'recluse'}, {'id': 158091, 'name': 'giant insect'}]  \n",
       "2                                                                                                                                                                                              [{'id': 1495, 'name': 'fishing'}, {'id': 12392, 'name': 'best friend'}, {'id': 179431, 'name': 'duringcreditsstinger'}, {'id': 208510, 'name': 'old men'}]  \n",
       "3                                                                                                                                              [{'id': 818, 'name': 'based on novel'}, {'id': 10131, 'name': 'interracial relationship'}, {'id': 14768, 'name': 'single mother'}, {'id': 15160, 'name': 'divorce'}, {'id': 33455, 'name': 'chick flick'}]  \n",
       "4  [{'id': 1009, 'name': 'baby'}, {'id': 1599, 'name': 'midlife crisis'}, {'id': 2246, 'name': 'confidence'}, {'id': 4995, 'name': 'aging'}, {'id': 5600, 'name': 'daughter'}, {'id': 10707, 'name': 'mother daughter relationship'}, {'id': 13149, 'name': 'pregnancy'}, {'id': 33358, 'name': 'contraception'}, {'id': 170521, 'name': 'gynecologist'}]  "
      ]
     },
     "execution_count": 8,
     "metadata": {},
     "output_type": "execute_result"
    }
   ],
   "source": [
    "keywords.head()"
   ]
  },
  {
   "cell_type": "code",
   "execution_count": 9,
   "metadata": {},
   "outputs": [],
   "source": [
    "# define a function to automatize the process \n",
    "def clean(x):\n",
    "    y=ast.literal_eval(x)\n",
    "    result=[i['name'] for i in y]\n",
    "    return result"
   ]
  },
  {
   "cell_type": "code",
   "execution_count": 10,
   "metadata": {},
   "outputs": [],
   "source": [
    "keywords['clean_keyw']=keywords.keywords.map(clean)"
   ]
  },
  {
   "cell_type": "code",
   "execution_count": 11,
   "metadata": {},
   "outputs": [],
   "source": [
    "mov_meta['clean_genres']=mov_meta.genres.map(clean)"
   ]
  },
  {
   "cell_type": "code",
   "execution_count": 12,
   "metadata": {},
   "outputs": [
    {
     "data": {
      "text/html": [
       "<div>\n",
       "<style scoped>\n",
       "    .dataframe tbody tr th:only-of-type {\n",
       "        vertical-align: middle;\n",
       "    }\n",
       "\n",
       "    .dataframe tbody tr th {\n",
       "        vertical-align: top;\n",
       "    }\n",
       "\n",
       "    .dataframe thead th {\n",
       "        text-align: right;\n",
       "    }\n",
       "</style>\n",
       "<table border=\"1\" class=\"dataframe\">\n",
       "  <thead>\n",
       "    <tr style=\"text-align: right;\">\n",
       "      <th></th>\n",
       "      <th>id</th>\n",
       "      <th>keywords</th>\n",
       "      <th>clean_keyw</th>\n",
       "    </tr>\n",
       "  </thead>\n",
       "  <tbody>\n",
       "    <tr>\n",
       "      <th>0</th>\n",
       "      <td>862</td>\n",
       "      <td>[{'id': 931, 'name': 'jealousy'}, {'id': 4290, 'name': 'toy'}, {'id': 5202, 'name': 'boy'}, {'id': 6054, 'name': 'friendship'}, {'id': 9713, 'name': 'friends'}, {'id': 9823, 'name': 'rivalry'}, {'id': 165503, 'name': 'boy next door'}, {'id': 170722, 'name': 'new toy'}, {'id': 187065, 'name': 'toy comes to life'}]</td>\n",
       "      <td>[jealousy, toy, boy, friendship, friends, rivalry, boy next door, new toy, toy comes to life]</td>\n",
       "    </tr>\n",
       "    <tr>\n",
       "      <th>1</th>\n",
       "      <td>8844</td>\n",
       "      <td>[{'id': 10090, 'name': 'board game'}, {'id': 10941, 'name': 'disappearance'}, {'id': 15101, 'name': \"based on children's book\"}, {'id': 33467, 'name': 'new home'}, {'id': 158086, 'name': 'recluse'}, {'id': 158091, 'name': 'giant insect'}]</td>\n",
       "      <td>[board game, disappearance, based on children's book, new home, recluse, giant insect]</td>\n",
       "    </tr>\n",
       "    <tr>\n",
       "      <th>2</th>\n",
       "      <td>15602</td>\n",
       "      <td>[{'id': 1495, 'name': 'fishing'}, {'id': 12392, 'name': 'best friend'}, {'id': 179431, 'name': 'duringcreditsstinger'}, {'id': 208510, 'name': 'old men'}]</td>\n",
       "      <td>[fishing, best friend, duringcreditsstinger, old men]</td>\n",
       "    </tr>\n",
       "    <tr>\n",
       "      <th>3</th>\n",
       "      <td>31357</td>\n",
       "      <td>[{'id': 818, 'name': 'based on novel'}, {'id': 10131, 'name': 'interracial relationship'}, {'id': 14768, 'name': 'single mother'}, {'id': 15160, 'name': 'divorce'}, {'id': 33455, 'name': 'chick flick'}]</td>\n",
       "      <td>[based on novel, interracial relationship, single mother, divorce, chick flick]</td>\n",
       "    </tr>\n",
       "    <tr>\n",
       "      <th>4</th>\n",
       "      <td>11862</td>\n",
       "      <td>[{'id': 1009, 'name': 'baby'}, {'id': 1599, 'name': 'midlife crisis'}, {'id': 2246, 'name': 'confidence'}, {'id': 4995, 'name': 'aging'}, {'id': 5600, 'name': 'daughter'}, {'id': 10707, 'name': 'mother daughter relationship'}, {'id': 13149, 'name': 'pregnancy'}, {'id': 33358, 'name': 'contraception'}, {'id': 170521, 'name': 'gynecologist'}]</td>\n",
       "      <td>[baby, midlife crisis, confidence, aging, daughter, mother daughter relationship, pregnancy, contraception, gynecologist]</td>\n",
       "    </tr>\n",
       "  </tbody>\n",
       "</table>\n",
       "</div>"
      ],
      "text/plain": [
       "      id  \\\n",
       "0    862   \n",
       "1   8844   \n",
       "2  15602   \n",
       "3  31357   \n",
       "4  11862   \n",
       "\n",
       "                                                                                                                                                                                                                                                                                                                                                 keywords  \\\n",
       "0                              [{'id': 931, 'name': 'jealousy'}, {'id': 4290, 'name': 'toy'}, {'id': 5202, 'name': 'boy'}, {'id': 6054, 'name': 'friendship'}, {'id': 9713, 'name': 'friends'}, {'id': 9823, 'name': 'rivalry'}, {'id': 165503, 'name': 'boy next door'}, {'id': 170722, 'name': 'new toy'}, {'id': 187065, 'name': 'toy comes to life'}]   \n",
       "1                                                                                                          [{'id': 10090, 'name': 'board game'}, {'id': 10941, 'name': 'disappearance'}, {'id': 15101, 'name': \"based on children's book\"}, {'id': 33467, 'name': 'new home'}, {'id': 158086, 'name': 'recluse'}, {'id': 158091, 'name': 'giant insect'}]   \n",
       "2                                                                                                                                                                                              [{'id': 1495, 'name': 'fishing'}, {'id': 12392, 'name': 'best friend'}, {'id': 179431, 'name': 'duringcreditsstinger'}, {'id': 208510, 'name': 'old men'}]   \n",
       "3                                                                                                                                              [{'id': 818, 'name': 'based on novel'}, {'id': 10131, 'name': 'interracial relationship'}, {'id': 14768, 'name': 'single mother'}, {'id': 15160, 'name': 'divorce'}, {'id': 33455, 'name': 'chick flick'}]   \n",
       "4  [{'id': 1009, 'name': 'baby'}, {'id': 1599, 'name': 'midlife crisis'}, {'id': 2246, 'name': 'confidence'}, {'id': 4995, 'name': 'aging'}, {'id': 5600, 'name': 'daughter'}, {'id': 10707, 'name': 'mother daughter relationship'}, {'id': 13149, 'name': 'pregnancy'}, {'id': 33358, 'name': 'contraception'}, {'id': 170521, 'name': 'gynecologist'}]   \n",
       "\n",
       "                                                                                                                  clean_keyw  \n",
       "0                              [jealousy, toy, boy, friendship, friends, rivalry, boy next door, new toy, toy comes to life]  \n",
       "1                                     [board game, disappearance, based on children's book, new home, recluse, giant insect]  \n",
       "2                                                                      [fishing, best friend, duringcreditsstinger, old men]  \n",
       "3                                            [based on novel, interracial relationship, single mother, divorce, chick flick]  \n",
       "4  [baby, midlife crisis, confidence, aging, daughter, mother daughter relationship, pregnancy, contraception, gynecologist]  "
      ]
     },
     "execution_count": 12,
     "metadata": {},
     "output_type": "execute_result"
    }
   ],
   "source": [
    "keywords.head()"
   ]
  },
  {
   "cell_type": "code",
   "execution_count": 13,
   "metadata": {},
   "outputs": [],
   "source": [
    "all_keywords=[j for i in keywords.clean_keyw for j in i]"
   ]
  },
  {
   "cell_type": "code",
   "execution_count": 14,
   "metadata": {},
   "outputs": [
    {
     "data": {
      "text/plain": [
       "158680"
      ]
     },
     "execution_count": 14,
     "metadata": {},
     "output_type": "execute_result"
    }
   ],
   "source": [
    "len(all_keywords)"
   ]
  },
  {
   "cell_type": "code",
   "execution_count": 15,
   "metadata": {},
   "outputs": [
    {
     "data": {
      "text/plain": [
       "19956"
      ]
     },
     "execution_count": 15,
     "metadata": {},
     "output_type": "execute_result"
    }
   ],
   "source": [
    "len(set(all_keywords))"
   ]
  },
  {
   "cell_type": "code",
   "execution_count": 16,
   "metadata": {},
   "outputs": [],
   "source": [
    "uni_keywords=set(all_keywords)"
   ]
  },
  {
   "cell_type": "code",
   "execution_count": 17,
   "metadata": {},
   "outputs": [],
   "source": [
    "keywords.clean_keyw=np.where(keywords.clean_keyw.str.len()==0,np.nan,keywords.clean_keyw)"
   ]
  },
  {
   "cell_type": "code",
   "execution_count": 18,
   "metadata": {},
   "outputs": [
    {
     "data": {
      "text/plain": [
       "0                                    [jealousy, toy, boy, friendship, friends, rivalry, boy next door, new toy, toy comes to life]\n",
       "1                                           [board game, disappearance, based on children's book, new home, recluse, giant insect]\n",
       "2                                                                            [fishing, best friend, duringcreditsstinger, old men]\n",
       "3                                                  [based on novel, interracial relationship, single mother, divorce, chick flick]\n",
       "4        [baby, midlife crisis, confidence, aging, daughter, mother daughter relationship, pregnancy, contraception, gynecologist]\n",
       "                                                                   ...                                                            \n",
       "46414                                                                                                                [tragic love]\n",
       "46415                                                                                                        [artist, play, pinoy]\n",
       "46416                                                                                                                          NaN\n",
       "46417                                                                                                                          NaN\n",
       "46418                                                                                                                          NaN\n",
       "Name: clean_keyw, Length: 46419, dtype: object"
      ]
     },
     "execution_count": 18,
     "metadata": {},
     "output_type": "execute_result"
    }
   ],
   "source": [
    "keywords.clean_keyw"
   ]
  },
  {
   "cell_type": "code",
   "execution_count": 19,
   "metadata": {},
   "outputs": [],
   "source": [
    "keywords.dropna(inplace=True)"
   ]
  },
  {
   "cell_type": "code",
   "execution_count": 20,
   "metadata": {},
   "outputs": [
    {
     "data": {
      "text/plain": [
       "(31624, 3)"
      ]
     },
     "execution_count": 20,
     "metadata": {},
     "output_type": "execute_result"
    }
   ],
   "source": [
    "keywords.shape"
   ]
  },
  {
   "cell_type": "code",
   "execution_count": 21,
   "metadata": {},
   "outputs": [
    {
     "name": "stdout",
     "output_type": "stream",
     "text": [
      "<class 'pandas.core.frame.DataFrame'>\n",
      "RangeIndex: 45466 entries, 0 to 45465\n",
      "Data columns (total 25 columns):\n",
      " #   Column                 Non-Null Count  Dtype  \n",
      "---  ------                 --------------  -----  \n",
      " 0   adult                  45466 non-null  object \n",
      " 1   belongs_to_collection  4494 non-null   object \n",
      " 2   budget                 45466 non-null  object \n",
      " 3   genres                 45466 non-null  object \n",
      " 4   homepage               7782 non-null   object \n",
      " 5   id                     45466 non-null  object \n",
      " 6   imdb_id                45449 non-null  object \n",
      " 7   original_language      45455 non-null  object \n",
      " 8   original_title         45466 non-null  object \n",
      " 9   overview               44512 non-null  object \n",
      " 10  popularity             45461 non-null  object \n",
      " 11  poster_path            45080 non-null  object \n",
      " 12  production_companies   45463 non-null  object \n",
      " 13  production_countries   45463 non-null  object \n",
      " 14  release_date           45379 non-null  object \n",
      " 15  revenue                45460 non-null  float64\n",
      " 16  runtime                45203 non-null  float64\n",
      " 17  spoken_languages       45460 non-null  object \n",
      " 18  status                 45379 non-null  object \n",
      " 19  tagline                20412 non-null  object \n",
      " 20  title                  45460 non-null  object \n",
      " 21  video                  45460 non-null  object \n",
      " 22  vote_average           45460 non-null  float64\n",
      " 23  vote_count             45460 non-null  float64\n",
      " 24  clean_genres           45466 non-null  object \n",
      "dtypes: float64(4), object(21)\n",
      "memory usage: 8.7+ MB\n"
     ]
    }
   ],
   "source": [
    "mov_meta.info()"
   ]
  },
  {
   "cell_type": "code",
   "execution_count": 22,
   "metadata": {},
   "outputs": [],
   "source": [
    "row_to_drop=mov_meta[mov_meta.id.str.contains('-')].index"
   ]
  },
  {
   "cell_type": "code",
   "execution_count": 23,
   "metadata": {},
   "outputs": [],
   "source": [
    "mov_meta.drop(row_to_drop,inplace=True)"
   ]
  },
  {
   "cell_type": "code",
   "execution_count": 24,
   "metadata": {},
   "outputs": [],
   "source": [
    "mov_meta.id=mov_meta.id.map(lambda x: int(x))"
   ]
  },
  {
   "cell_type": "code",
   "execution_count": 25,
   "metadata": {},
   "outputs": [],
   "source": [
    "mov_meta.drop_duplicates(subset=['id'],inplace=True)"
   ]
  },
  {
   "cell_type": "code",
   "execution_count": 26,
   "metadata": {},
   "outputs": [],
   "source": [
    "mov_meta.drop_duplicates(subset=['title'],inplace=True)"
   ]
  },
  {
   "cell_type": "code",
   "execution_count": 27,
   "metadata": {},
   "outputs": [],
   "source": [
    "mov_meta.clean_genres=np.where(mov_meta.clean_genres.str.len()==0,np.nan,mov_meta.clean_genres)"
   ]
  },
  {
   "cell_type": "code",
   "execution_count": 28,
   "metadata": {},
   "outputs": [],
   "source": [
    "mov_meta.dropna(subset=['clean_genres','overview'],inplace=True)"
   ]
  },
  {
   "cell_type": "code",
   "execution_count": 29,
   "metadata": {},
   "outputs": [],
   "source": [
    "mov_meta.reset_index(drop=True,inplace=True)"
   ]
  },
  {
   "cell_type": "code",
   "execution_count": 30,
   "metadata": {},
   "outputs": [
    {
     "data": {
      "text/plain": [
       "(39332, 25)"
      ]
     },
     "execution_count": 30,
     "metadata": {},
     "output_type": "execute_result"
    }
   ],
   "source": [
    "mov_meta.shape"
   ]
  },
  {
   "cell_type": "markdown",
   "metadata": {},
   "source": [
    "# Tf-idf + Cosine similarity"
   ]
  },
  {
   "cell_type": "markdown",
   "metadata": {},
   "source": [
    "## Preparation"
   ]
  },
  {
   "cell_type": "code",
   "execution_count": 31,
   "metadata": {},
   "outputs": [],
   "source": [
    "from gensim.corpora.dictionary import Dictionary\n",
    "\n",
    "dictionary=Dictionary(keywords.clean_keyw)"
   ]
  },
  {
   "cell_type": "code",
   "execution_count": 32,
   "metadata": {},
   "outputs": [],
   "source": [
    "corpus = [dictionary.doc2bow(mov) for mov in keywords.clean_keyw]"
   ]
  },
  {
   "cell_type": "code",
   "execution_count": 33,
   "metadata": {},
   "outputs": [],
   "source": [
    "from gensim.models.tfidfmodel import TfidfModel\n",
    "\n",
    "tfidf = TfidfModel(corpus)"
   ]
  },
  {
   "cell_type": "code",
   "execution_count": 34,
   "metadata": {},
   "outputs": [],
   "source": [
    "from gensim.similarities import MatrixSimilarity\n",
    "\n",
    "sims = MatrixSimilarity(tfidf[corpus], num_features=len(dictionary))"
   ]
  },
  {
   "cell_type": "code",
   "execution_count": 35,
   "metadata": {},
   "outputs": [
    {
     "name": "stdout",
     "output_type": "stream",
     "text": [
      "MatrixSimilarity<31624 docs, 19956 features>\n"
     ]
    }
   ],
   "source": [
    "print(sims)"
   ]
  },
  {
   "cell_type": "markdown",
   "metadata": {},
   "source": [
    "## Step by step - how to use tf-idf to match on keywords"
   ]
  },
  {
   "cell_type": "code",
   "execution_count": 36,
   "metadata": {},
   "outputs": [
    {
     "data": {
      "text/plain": [
       "[(717, 1), (3046, 1), (18188, 1)]"
      ]
     },
     "execution_count": 36,
     "metadata": {},
     "output_type": "execute_result"
    }
   ],
   "source": [
    "# Create bag of word with the query keywords\n",
    "\n",
    "query_doc_bow = dictionary.doc2bow(['magic', 'silent film', 'trick film'])\n",
    "query_doc_bow"
   ]
  },
  {
   "cell_type": "code",
   "execution_count": 37,
   "metadata": {},
   "outputs": [
    {
     "data": {
      "text/plain": [
       "[(717, 0.4786506607722017),\n",
       " (3046, 0.44187184879198266),\n",
       " (18188, 0.7587112851325528)]"
      ]
     },
     "execution_count": 37,
     "metadata": {},
     "output_type": "execute_result"
    }
   ],
   "source": [
    "# Convert the bag of words in a tf-idf representation \n",
    "\n",
    "query_doc_tfidf = tfidf[query_doc_bow]\n",
    "query_doc_tfidf"
   ]
  },
  {
   "cell_type": "code",
   "execution_count": 38,
   "metadata": {},
   "outputs": [
    {
     "data": {
      "text/plain": [
       "array([0., 0., 0., ..., 0., 0., 0.], dtype=float32)"
      ]
     },
     "execution_count": 38,
     "metadata": {},
     "output_type": "execute_result"
    }
   ],
   "source": [
    "# Get the cosine similarity of the document with every others in the dataset\n",
    "\n",
    "similarity_array = sims[query_doc_tfidf]\n",
    "similarity_array"
   ]
  },
  {
   "cell_type": "code",
   "execution_count": 39,
   "metadata": {},
   "outputs": [
    {
     "data": {
      "text/html": [
       "<div>\n",
       "<style scoped>\n",
       "    .dataframe tbody tr th:only-of-type {\n",
       "        vertical-align: middle;\n",
       "    }\n",
       "\n",
       "    .dataframe tbody tr th {\n",
       "        vertical-align: top;\n",
       "    }\n",
       "\n",
       "    .dataframe thead th {\n",
       "        text-align: right;\n",
       "    }\n",
       "</style>\n",
       "<table border=\"1\" class=\"dataframe\">\n",
       "  <thead>\n",
       "    <tr style=\"text-align: right;\">\n",
       "      <th></th>\n",
       "      <th>sim_score</th>\n",
       "    </tr>\n",
       "    <tr>\n",
       "      <th>id</th>\n",
       "      <th></th>\n",
       "    </tr>\n",
       "  </thead>\n",
       "  <tbody>\n",
       "    <tr>\n",
       "      <th>862</th>\n",
       "      <td>0.0</td>\n",
       "    </tr>\n",
       "    <tr>\n",
       "      <th>8844</th>\n",
       "      <td>0.0</td>\n",
       "    </tr>\n",
       "    <tr>\n",
       "      <th>15602</th>\n",
       "      <td>0.0</td>\n",
       "    </tr>\n",
       "    <tr>\n",
       "      <th>31357</th>\n",
       "      <td>0.0</td>\n",
       "    </tr>\n",
       "    <tr>\n",
       "      <th>11862</th>\n",
       "      <td>0.0</td>\n",
       "    </tr>\n",
       "    <tr>\n",
       "      <th>...</th>\n",
       "      <td>...</td>\n",
       "    </tr>\n",
       "    <tr>\n",
       "      <th>84419</th>\n",
       "      <td>0.0</td>\n",
       "    </tr>\n",
       "    <tr>\n",
       "      <th>390959</th>\n",
       "      <td>0.0</td>\n",
       "    </tr>\n",
       "    <tr>\n",
       "      <th>289923</th>\n",
       "      <td>0.0</td>\n",
       "    </tr>\n",
       "    <tr>\n",
       "      <th>439050</th>\n",
       "      <td>0.0</td>\n",
       "    </tr>\n",
       "    <tr>\n",
       "      <th>111109</th>\n",
       "      <td>0.0</td>\n",
       "    </tr>\n",
       "  </tbody>\n",
       "</table>\n",
       "<p>31624 rows × 1 columns</p>\n",
       "</div>"
      ],
      "text/plain": [
       "        sim_score\n",
       "id               \n",
       "862           0.0\n",
       "8844          0.0\n",
       "15602         0.0\n",
       "31357         0.0\n",
       "11862         0.0\n",
       "...           ...\n",
       "84419         0.0\n",
       "390959        0.0\n",
       "289923        0.0\n",
       "439050        0.0\n",
       "111109        0.0\n",
       "\n",
       "[31624 rows x 1 columns]"
      ]
     },
     "execution_count": 39,
     "metadata": {},
     "output_type": "execute_result"
    }
   ],
   "source": [
    "# Convert it into a Series \n",
    "\n",
    "similarity_series = pd.DataFrame(similarity_array.tolist(), index=keywords.id, columns=['sim_score'])\n",
    "similarity_series"
   ]
  },
  {
   "cell_type": "code",
   "execution_count": 40,
   "metadata": {
    "scrolled": true
   },
   "outputs": [
    {
     "data": {
      "text/html": [
       "<div>\n",
       "<style scoped>\n",
       "    .dataframe tbody tr th:only-of-type {\n",
       "        vertical-align: middle;\n",
       "    }\n",
       "\n",
       "    .dataframe tbody tr th {\n",
       "        vertical-align: top;\n",
       "    }\n",
       "\n",
       "    .dataframe thead th {\n",
       "        text-align: right;\n",
       "    }\n",
       "</style>\n",
       "<table border=\"1\" class=\"dataframe\">\n",
       "  <thead>\n",
       "    <tr style=\"text-align: right;\">\n",
       "      <th></th>\n",
       "      <th>id</th>\n",
       "      <th>sim_score</th>\n",
       "      <th>adult</th>\n",
       "      <th>belongs_to_collection</th>\n",
       "      <th>budget</th>\n",
       "      <th>genres</th>\n",
       "      <th>homepage</th>\n",
       "      <th>imdb_id</th>\n",
       "      <th>original_language</th>\n",
       "      <th>original_title</th>\n",
       "      <th>...</th>\n",
       "      <th>revenue</th>\n",
       "      <th>runtime</th>\n",
       "      <th>spoken_languages</th>\n",
       "      <th>status</th>\n",
       "      <th>tagline</th>\n",
       "      <th>title</th>\n",
       "      <th>video</th>\n",
       "      <th>vote_average</th>\n",
       "      <th>vote_count</th>\n",
       "      <th>clean_genres</th>\n",
       "    </tr>\n",
       "  </thead>\n",
       "  <tbody>\n",
       "    <tr>\n",
       "      <th>0</th>\n",
       "      <td>862</td>\n",
       "      <td>0.0</td>\n",
       "      <td>False</td>\n",
       "      <td>{'id': 10194, 'name': 'Toy Story Collection', 'poster_path': '/7G9915LfUQ2lVfwMEEhDsn3kT4B.jpg', 'backdrop_path': '/9FBwqcd9IRruEDUrTdcaafOMKUq.jpg'}</td>\n",
       "      <td>30000000</td>\n",
       "      <td>[{'id': 16, 'name': 'Animation'}, {'id': 35, 'name': 'Comedy'}, {'id': 10751, 'name': 'Family'}]</td>\n",
       "      <td>http://toystory.disney.com/toy-story</td>\n",
       "      <td>tt0114709</td>\n",
       "      <td>en</td>\n",
       "      <td>Toy Story</td>\n",
       "      <td>...</td>\n",
       "      <td>373554033.0</td>\n",
       "      <td>81.0</td>\n",
       "      <td>[{'iso_639_1': 'en', 'name': 'English'}]</td>\n",
       "      <td>Released</td>\n",
       "      <td>NaN</td>\n",
       "      <td>Toy Story</td>\n",
       "      <td>False</td>\n",
       "      <td>7.7</td>\n",
       "      <td>5415.0</td>\n",
       "      <td>[Animation, Comedy, Family]</td>\n",
       "    </tr>\n",
       "    <tr>\n",
       "      <th>1</th>\n",
       "      <td>8844</td>\n",
       "      <td>0.0</td>\n",
       "      <td>False</td>\n",
       "      <td>NaN</td>\n",
       "      <td>65000000</td>\n",
       "      <td>[{'id': 12, 'name': 'Adventure'}, {'id': 14, 'name': 'Fantasy'}, {'id': 10751, 'name': 'Family'}]</td>\n",
       "      <td>NaN</td>\n",
       "      <td>tt0113497</td>\n",
       "      <td>en</td>\n",
       "      <td>Jumanji</td>\n",
       "      <td>...</td>\n",
       "      <td>262797249.0</td>\n",
       "      <td>104.0</td>\n",
       "      <td>[{'iso_639_1': 'en', 'name': 'English'}, {'iso_639_1': 'fr', 'name': 'Français'}]</td>\n",
       "      <td>Released</td>\n",
       "      <td>Roll the dice and unleash the excitement!</td>\n",
       "      <td>Jumanji</td>\n",
       "      <td>False</td>\n",
       "      <td>6.9</td>\n",
       "      <td>2413.0</td>\n",
       "      <td>[Adventure, Fantasy, Family]</td>\n",
       "    </tr>\n",
       "    <tr>\n",
       "      <th>2</th>\n",
       "      <td>15602</td>\n",
       "      <td>0.0</td>\n",
       "      <td>False</td>\n",
       "      <td>{'id': 119050, 'name': 'Grumpy Old Men Collection', 'poster_path': '/nLvUdqgPgm3F85NMCii9gVFUcet.jpg', 'backdrop_path': '/hypTnLot2z8wpFS7qwsQHW1uV8u.jpg'}</td>\n",
       "      <td>0</td>\n",
       "      <td>[{'id': 10749, 'name': 'Romance'}, {'id': 35, 'name': 'Comedy'}]</td>\n",
       "      <td>NaN</td>\n",
       "      <td>tt0113228</td>\n",
       "      <td>en</td>\n",
       "      <td>Grumpier Old Men</td>\n",
       "      <td>...</td>\n",
       "      <td>0.0</td>\n",
       "      <td>101.0</td>\n",
       "      <td>[{'iso_639_1': 'en', 'name': 'English'}]</td>\n",
       "      <td>Released</td>\n",
       "      <td>Still Yelling. Still Fighting. Still Ready for Love.</td>\n",
       "      <td>Grumpier Old Men</td>\n",
       "      <td>False</td>\n",
       "      <td>6.5</td>\n",
       "      <td>92.0</td>\n",
       "      <td>[Romance, Comedy]</td>\n",
       "    </tr>\n",
       "    <tr>\n",
       "      <th>3</th>\n",
       "      <td>31357</td>\n",
       "      <td>0.0</td>\n",
       "      <td>False</td>\n",
       "      <td>NaN</td>\n",
       "      <td>16000000</td>\n",
       "      <td>[{'id': 35, 'name': 'Comedy'}, {'id': 18, 'name': 'Drama'}, {'id': 10749, 'name': 'Romance'}]</td>\n",
       "      <td>NaN</td>\n",
       "      <td>tt0114885</td>\n",
       "      <td>en</td>\n",
       "      <td>Waiting to Exhale</td>\n",
       "      <td>...</td>\n",
       "      <td>81452156.0</td>\n",
       "      <td>127.0</td>\n",
       "      <td>[{'iso_639_1': 'en', 'name': 'English'}]</td>\n",
       "      <td>Released</td>\n",
       "      <td>Friends are the people who let you be yourself... and never let you forget it.</td>\n",
       "      <td>Waiting to Exhale</td>\n",
       "      <td>False</td>\n",
       "      <td>6.1</td>\n",
       "      <td>34.0</td>\n",
       "      <td>[Comedy, Drama, Romance]</td>\n",
       "    </tr>\n",
       "    <tr>\n",
       "      <th>4</th>\n",
       "      <td>11862</td>\n",
       "      <td>0.0</td>\n",
       "      <td>False</td>\n",
       "      <td>{'id': 96871, 'name': 'Father of the Bride Collection', 'poster_path': '/nts4iOmNnq7GNicycMJ9pSAn204.jpg', 'backdrop_path': '/7qwE57OVZmMJChBpLEbJEmzUydk.jpg'}</td>\n",
       "      <td>0</td>\n",
       "      <td>[{'id': 35, 'name': 'Comedy'}]</td>\n",
       "      <td>NaN</td>\n",
       "      <td>tt0113041</td>\n",
       "      <td>en</td>\n",
       "      <td>Father of the Bride Part II</td>\n",
       "      <td>...</td>\n",
       "      <td>76578911.0</td>\n",
       "      <td>106.0</td>\n",
       "      <td>[{'iso_639_1': 'en', 'name': 'English'}]</td>\n",
       "      <td>Released</td>\n",
       "      <td>Just When His World Is Back To Normal... He's In For The Surprise Of His Life!</td>\n",
       "      <td>Father of the Bride Part II</td>\n",
       "      <td>False</td>\n",
       "      <td>5.7</td>\n",
       "      <td>173.0</td>\n",
       "      <td>[Comedy]</td>\n",
       "    </tr>\n",
       "  </tbody>\n",
       "</table>\n",
       "<p>5 rows × 26 columns</p>\n",
       "</div>"
      ],
      "text/plain": [
       "      id  sim_score  adult  \\\n",
       "0    862        0.0  False   \n",
       "1   8844        0.0  False   \n",
       "2  15602        0.0  False   \n",
       "3  31357        0.0  False   \n",
       "4  11862        0.0  False   \n",
       "\n",
       "                                                                                                                                             belongs_to_collection  \\\n",
       "0            {'id': 10194, 'name': 'Toy Story Collection', 'poster_path': '/7G9915LfUQ2lVfwMEEhDsn3kT4B.jpg', 'backdrop_path': '/9FBwqcd9IRruEDUrTdcaafOMKUq.jpg'}   \n",
       "1                                                                                                                                                              NaN   \n",
       "2      {'id': 119050, 'name': 'Grumpy Old Men Collection', 'poster_path': '/nLvUdqgPgm3F85NMCii9gVFUcet.jpg', 'backdrop_path': '/hypTnLot2z8wpFS7qwsQHW1uV8u.jpg'}   \n",
       "3                                                                                                                                                              NaN   \n",
       "4  {'id': 96871, 'name': 'Father of the Bride Collection', 'poster_path': '/nts4iOmNnq7GNicycMJ9pSAn204.jpg', 'backdrop_path': '/7qwE57OVZmMJChBpLEbJEmzUydk.jpg'}   \n",
       "\n",
       "     budget  \\\n",
       "0  30000000   \n",
       "1  65000000   \n",
       "2         0   \n",
       "3  16000000   \n",
       "4         0   \n",
       "\n",
       "                                                                                              genres  \\\n",
       "0   [{'id': 16, 'name': 'Animation'}, {'id': 35, 'name': 'Comedy'}, {'id': 10751, 'name': 'Family'}]   \n",
       "1  [{'id': 12, 'name': 'Adventure'}, {'id': 14, 'name': 'Fantasy'}, {'id': 10751, 'name': 'Family'}]   \n",
       "2                                   [{'id': 10749, 'name': 'Romance'}, {'id': 35, 'name': 'Comedy'}]   \n",
       "3      [{'id': 35, 'name': 'Comedy'}, {'id': 18, 'name': 'Drama'}, {'id': 10749, 'name': 'Romance'}]   \n",
       "4                                                                     [{'id': 35, 'name': 'Comedy'}]   \n",
       "\n",
       "                               homepage    imdb_id original_language  \\\n",
       "0  http://toystory.disney.com/toy-story  tt0114709                en   \n",
       "1                                   NaN  tt0113497                en   \n",
       "2                                   NaN  tt0113228                en   \n",
       "3                                   NaN  tt0114885                en   \n",
       "4                                   NaN  tt0113041                en   \n",
       "\n",
       "                original_title  ...      revenue runtime  \\\n",
       "0                    Toy Story  ...  373554033.0    81.0   \n",
       "1                      Jumanji  ...  262797249.0   104.0   \n",
       "2             Grumpier Old Men  ...          0.0   101.0   \n",
       "3            Waiting to Exhale  ...   81452156.0   127.0   \n",
       "4  Father of the Bride Part II  ...   76578911.0   106.0   \n",
       "\n",
       "                                                                    spoken_languages  \\\n",
       "0                                           [{'iso_639_1': 'en', 'name': 'English'}]   \n",
       "1  [{'iso_639_1': 'en', 'name': 'English'}, {'iso_639_1': 'fr', 'name': 'Français'}]   \n",
       "2                                           [{'iso_639_1': 'en', 'name': 'English'}]   \n",
       "3                                           [{'iso_639_1': 'en', 'name': 'English'}]   \n",
       "4                                           [{'iso_639_1': 'en', 'name': 'English'}]   \n",
       "\n",
       "     status  \\\n",
       "0  Released   \n",
       "1  Released   \n",
       "2  Released   \n",
       "3  Released   \n",
       "4  Released   \n",
       "\n",
       "                                                                          tagline  \\\n",
       "0                                                                             NaN   \n",
       "1                                       Roll the dice and unleash the excitement!   \n",
       "2                            Still Yelling. Still Fighting. Still Ready for Love.   \n",
       "3  Friends are the people who let you be yourself... and never let you forget it.   \n",
       "4  Just When His World Is Back To Normal... He's In For The Surprise Of His Life!   \n",
       "\n",
       "                         title  video  vote_average vote_count  \\\n",
       "0                    Toy Story  False           7.7     5415.0   \n",
       "1                      Jumanji  False           6.9     2413.0   \n",
       "2             Grumpier Old Men  False           6.5       92.0   \n",
       "3            Waiting to Exhale  False           6.1       34.0   \n",
       "4  Father of the Bride Part II  False           5.7      173.0   \n",
       "\n",
       "                   clean_genres  \n",
       "0   [Animation, Comedy, Family]  \n",
       "1  [Adventure, Fantasy, Family]  \n",
       "2             [Romance, Comedy]  \n",
       "3      [Comedy, Drama, Romance]  \n",
       "4                      [Comedy]  \n",
       "\n",
       "[5 rows x 26 columns]"
      ]
     },
     "execution_count": 40,
     "metadata": {},
     "output_type": "execute_result"
    }
   ],
   "source": [
    "meta_similiraty=similarity_series.merge(mov_meta,on='id',how='left')\n",
    "meta_similiraty.head()"
   ]
  },
  {
   "cell_type": "code",
   "execution_count": 41,
   "metadata": {},
   "outputs": [
    {
     "data": {
      "text/html": [
       "<div>\n",
       "<style scoped>\n",
       "    .dataframe tbody tr th:only-of-type {\n",
       "        vertical-align: middle;\n",
       "    }\n",
       "\n",
       "    .dataframe tbody tr th {\n",
       "        vertical-align: top;\n",
       "    }\n",
       "\n",
       "    .dataframe thead th {\n",
       "        text-align: right;\n",
       "    }\n",
       "</style>\n",
       "<table border=\"1\" class=\"dataframe\">\n",
       "  <thead>\n",
       "    <tr style=\"text-align: right;\">\n",
       "      <th></th>\n",
       "      <th>id</th>\n",
       "      <th>sim_score</th>\n",
       "      <th>adult</th>\n",
       "      <th>belongs_to_collection</th>\n",
       "      <th>budget</th>\n",
       "      <th>genres</th>\n",
       "      <th>homepage</th>\n",
       "      <th>imdb_id</th>\n",
       "      <th>original_language</th>\n",
       "      <th>original_title</th>\n",
       "      <th>...</th>\n",
       "      <th>revenue</th>\n",
       "      <th>runtime</th>\n",
       "      <th>spoken_languages</th>\n",
       "      <th>status</th>\n",
       "      <th>tagline</th>\n",
       "      <th>title</th>\n",
       "      <th>video</th>\n",
       "      <th>vote_average</th>\n",
       "      <th>vote_count</th>\n",
       "      <th>clean_genres</th>\n",
       "    </tr>\n",
       "  </thead>\n",
       "  <tbody>\n",
       "    <tr>\n",
       "      <th>31254</th>\n",
       "      <td>147746</td>\n",
       "      <td>0.878005</td>\n",
       "      <td>False</td>\n",
       "      <td>NaN</td>\n",
       "      <td>0</td>\n",
       "      <td>[{'id': 14, 'name': 'Fantasy'}]</td>\n",
       "      <td>NaN</td>\n",
       "      <td>tt0223622</td>\n",
       "      <td>fr</td>\n",
       "      <td>La Lanterne magique</td>\n",
       "      <td>...</td>\n",
       "      <td>0.0</td>\n",
       "      <td>5.0</td>\n",
       "      <td>[{'iso_639_1': 'xx', 'name': 'No Language'}]</td>\n",
       "      <td>Released</td>\n",
       "      <td>NaN</td>\n",
       "      <td>The Magic Lantern</td>\n",
       "      <td>False</td>\n",
       "      <td>5.4</td>\n",
       "      <td>8.0</td>\n",
       "      <td>[Fantasy]</td>\n",
       "    </tr>\n",
       "    <tr>\n",
       "      <th>31259</th>\n",
       "      <td>232943</td>\n",
       "      <td>0.878005</td>\n",
       "      <td>False</td>\n",
       "      <td>NaN</td>\n",
       "      <td>0</td>\n",
       "      <td>[{'id': 35, 'name': 'Comedy'}, {'id': 14, 'name': 'Fantasy'}, {'id': 80, 'name': 'Crime'}]</td>\n",
       "      <td>NaN</td>\n",
       "      <td>tt1802159</td>\n",
       "      <td>fr</td>\n",
       "      <td>L'insaisissable pickpocket</td>\n",
       "      <td>...</td>\n",
       "      <td>0.0</td>\n",
       "      <td>4.0</td>\n",
       "      <td>[{'iso_639_1': 'xx', 'name': 'No Language'}]</td>\n",
       "      <td>Released</td>\n",
       "      <td>NaN</td>\n",
       "      <td>Diabolical Pickpocket</td>\n",
       "      <td>False</td>\n",
       "      <td>6.5</td>\n",
       "      <td>2.0</td>\n",
       "      <td>[Comedy, Fantasy, Crime]</td>\n",
       "    </tr>\n",
       "    <tr>\n",
       "      <th>31271</th>\n",
       "      <td>194040</td>\n",
       "      <td>0.878005</td>\n",
       "      <td>False</td>\n",
       "      <td>NaN</td>\n",
       "      <td>0</td>\n",
       "      <td>[{'id': 10402, 'name': 'Music'}, {'id': 35, 'name': 'Comedy'}, {'id': 14, 'name': 'Fantasy'}]</td>\n",
       "      <td>NaN</td>\n",
       "      <td>tt1705951</td>\n",
       "      <td>fr</td>\n",
       "      <td>Symphonie bizarre</td>\n",
       "      <td>...</td>\n",
       "      <td>0.0</td>\n",
       "      <td>3.0</td>\n",
       "      <td>[{'iso_639_1': 'xx', 'name': 'No Language'}]</td>\n",
       "      <td>Released</td>\n",
       "      <td>NaN</td>\n",
       "      <td>An Awful Symphony</td>\n",
       "      <td>False</td>\n",
       "      <td>5.5</td>\n",
       "      <td>2.0</td>\n",
       "      <td>[Music, Comedy, Fantasy]</td>\n",
       "    </tr>\n",
       "    <tr>\n",
       "      <th>31435</th>\n",
       "      <td>104697</td>\n",
       "      <td>0.778813</td>\n",
       "      <td>False</td>\n",
       "      <td>NaN</td>\n",
       "      <td>0</td>\n",
       "      <td>[{'id': 35, 'name': 'Comedy'}, {'id': 14, 'name': 'Fantasy'}]</td>\n",
       "      <td>NaN</td>\n",
       "      <td>tt0222768</td>\n",
       "      <td>fr</td>\n",
       "      <td>Guillaume Tell et le Clown</td>\n",
       "      <td>...</td>\n",
       "      <td>0.0</td>\n",
       "      <td>1.0</td>\n",
       "      <td>[{'iso_639_1': 'xx', 'name': 'No Language'}]</td>\n",
       "      <td>Released</td>\n",
       "      <td>NaN</td>\n",
       "      <td>Adventures of William Tell</td>\n",
       "      <td>False</td>\n",
       "      <td>6.1</td>\n",
       "      <td>7.0</td>\n",
       "      <td>[Comedy, Fantasy]</td>\n",
       "    </tr>\n",
       "    <tr>\n",
       "      <th>24161</th>\n",
       "      <td>96701</td>\n",
       "      <td>0.743567</td>\n",
       "      <td>False</td>\n",
       "      <td>NaN</td>\n",
       "      <td>0</td>\n",
       "      <td>[{'id': 14, 'name': 'Fantasy'}, {'id': 35, 'name': 'Comedy'}]</td>\n",
       "      <td>NaN</td>\n",
       "      <td>tt0222874</td>\n",
       "      <td>fr</td>\n",
       "      <td>Le cake-walk infernal</td>\n",
       "      <td>...</td>\n",
       "      <td>0.0</td>\n",
       "      <td>5.0</td>\n",
       "      <td>[]</td>\n",
       "      <td>Released</td>\n",
       "      <td>NaN</td>\n",
       "      <td>The Infernal Cakewalk</td>\n",
       "      <td>False</td>\n",
       "      <td>6.2</td>\n",
       "      <td>6.0</td>\n",
       "      <td>[Fantasy, Comedy]</td>\n",
       "    </tr>\n",
       "  </tbody>\n",
       "</table>\n",
       "<p>5 rows × 26 columns</p>\n",
       "</div>"
      ],
      "text/plain": [
       "           id  sim_score  adult belongs_to_collection budget  \\\n",
       "31254  147746   0.878005  False                   NaN      0   \n",
       "31259  232943   0.878005  False                   NaN      0   \n",
       "31271  194040   0.878005  False                   NaN      0   \n",
       "31435  104697   0.778813  False                   NaN      0   \n",
       "24161   96701   0.743567  False                   NaN      0   \n",
       "\n",
       "                                                                                              genres  \\\n",
       "31254                                                                [{'id': 14, 'name': 'Fantasy'}]   \n",
       "31259     [{'id': 35, 'name': 'Comedy'}, {'id': 14, 'name': 'Fantasy'}, {'id': 80, 'name': 'Crime'}]   \n",
       "31271  [{'id': 10402, 'name': 'Music'}, {'id': 35, 'name': 'Comedy'}, {'id': 14, 'name': 'Fantasy'}]   \n",
       "31435                                  [{'id': 35, 'name': 'Comedy'}, {'id': 14, 'name': 'Fantasy'}]   \n",
       "24161                                  [{'id': 14, 'name': 'Fantasy'}, {'id': 35, 'name': 'Comedy'}]   \n",
       "\n",
       "      homepage    imdb_id original_language              original_title  ...  \\\n",
       "31254      NaN  tt0223622                fr         La Lanterne magique  ...   \n",
       "31259      NaN  tt1802159                fr  L'insaisissable pickpocket  ...   \n",
       "31271      NaN  tt1705951                fr           Symphonie bizarre  ...   \n",
       "31435      NaN  tt0222768                fr  Guillaume Tell et le Clown  ...   \n",
       "24161      NaN  tt0222874                fr       Le cake-walk infernal  ...   \n",
       "\n",
       "      revenue runtime                              spoken_languages    status  \\\n",
       "31254     0.0     5.0  [{'iso_639_1': 'xx', 'name': 'No Language'}]  Released   \n",
       "31259     0.0     4.0  [{'iso_639_1': 'xx', 'name': 'No Language'}]  Released   \n",
       "31271     0.0     3.0  [{'iso_639_1': 'xx', 'name': 'No Language'}]  Released   \n",
       "31435     0.0     1.0  [{'iso_639_1': 'xx', 'name': 'No Language'}]  Released   \n",
       "24161     0.0     5.0                                            []  Released   \n",
       "\n",
       "      tagline                       title  video  vote_average vote_count  \\\n",
       "31254     NaN           The Magic Lantern  False           5.4        8.0   \n",
       "31259     NaN       Diabolical Pickpocket  False           6.5        2.0   \n",
       "31271     NaN           An Awful Symphony  False           5.5        2.0   \n",
       "31435     NaN  Adventures of William Tell  False           6.1        7.0   \n",
       "24161     NaN       The Infernal Cakewalk  False           6.2        6.0   \n",
       "\n",
       "                   clean_genres  \n",
       "31254                 [Fantasy]  \n",
       "31259  [Comedy, Fantasy, Crime]  \n",
       "31271  [Music, Comedy, Fantasy]  \n",
       "31435         [Comedy, Fantasy]  \n",
       "24161         [Fantasy, Comedy]  \n",
       "\n",
       "[5 rows x 26 columns]"
      ]
     },
     "execution_count": 41,
     "metadata": {},
     "output_type": "execute_result"
    }
   ],
   "source": [
    "# Sort the Series and get top hits \n",
    "top_hits = meta_similiraty.sort_values(by='sim_score',ascending=False)[1:6]\n",
    "top_hits"
   ]
  },
  {
   "cell_type": "markdown",
   "metadata": {
    "heading_collapsed": true
   },
   "source": [
    "## Tests"
   ]
  },
  {
   "cell_type": "code",
   "execution_count": 42,
   "metadata": {
    "hidden": true
   },
   "outputs": [],
   "source": [
    "def test_f(query,nb_hits):\n",
    "    query_doc_bow = dictionary.doc2bow(query)\n",
    "    query_doc_tfidf = tfidf[query_doc_bow]\n",
    "    similarity_array = sims[query_doc_tfidf]\n",
    "    similarity_series = pd.Series(similarity_array.tolist(), index=keywords.id)\n",
    "    top_hits = similarity_series.sort_values(ascending=False)[1:nb_hits+1]\n",
    "    return top_hits"
   ]
  },
  {
   "cell_type": "code",
   "execution_count": 43,
   "metadata": {
    "hidden": true
   },
   "outputs": [
    {
     "data": {
      "text/plain": [
       "id\n",
       "232943    0.878005\n",
       "147746    0.878005\n",
       "194040    0.878005\n",
       "104697    0.778813\n",
       "96701     0.743567\n",
       "dtype: float64"
      ]
     },
     "execution_count": 43,
     "metadata": {},
     "output_type": "execute_result"
    }
   ],
   "source": [
    "test_f(['magic', 'silent film', 'trick film'],5)"
   ]
  },
  {
   "cell_type": "code",
   "execution_count": 44,
   "metadata": {
    "hidden": true
   },
   "outputs": [
    {
     "data": {
      "text/plain": [
       "id\n",
       "118051    0.530232\n",
       "84023     0.478325\n",
       "14499     0.442306\n",
       "86764     0.408355\n",
       "36301     0.368346\n",
       "dtype: float64"
      ]
     },
     "execution_count": 44,
     "metadata": {},
     "output_type": "execute_result"
    }
   ],
   "source": [
    "test_f(['jealousy', 'toy', 'boy', 'friendship', 'friends'],5)"
   ]
  },
  {
   "cell_type": "markdown",
   "metadata": {
    "heading_collapsed": true
   },
   "source": [
    "## Including meta data in the results"
   ]
  },
  {
   "cell_type": "code",
   "execution_count": 45,
   "metadata": {
    "hidden": true
   },
   "outputs": [
    {
     "data": {
      "text/plain": [
       "Index(['adult', 'belongs_to_collection', 'budget', 'genres', 'homepage', 'id',\n",
       "       'imdb_id', 'original_language', 'original_title', 'overview',\n",
       "       'popularity', 'poster_path', 'production_companies',\n",
       "       'production_countries', 'release_date', 'revenue', 'runtime',\n",
       "       'spoken_languages', 'status', 'tagline', 'title', 'video',\n",
       "       'vote_average', 'vote_count', 'clean_genres'],\n",
       "      dtype='object')"
      ]
     },
     "execution_count": 45,
     "metadata": {},
     "output_type": "execute_result"
    }
   ],
   "source": [
    "mov_meta.columns"
   ]
  },
  {
   "cell_type": "code",
   "execution_count": 46,
   "metadata": {
    "hidden": true
   },
   "outputs": [],
   "source": [
    "key_meta=keywords.merge(mov_meta,on='id',how='left')"
   ]
  },
  {
   "cell_type": "code",
   "execution_count": 47,
   "metadata": {
    "hidden": true
   },
   "outputs": [],
   "source": [
    "dictionary=Dictionary(keywords.clean_keyw)"
   ]
  },
  {
   "cell_type": "code",
   "execution_count": 48,
   "metadata": {
    "hidden": true
   },
   "outputs": [],
   "source": [
    "def recommand_me(query,nb_hits):\n",
    "    query_doc_bow = dictionary.doc2bow(query)\n",
    "    query_doc_tfidf = tfidf[query_doc_bow]\n",
    "    similarity_array = sims[query_doc_tfidf]\n",
    "    similarity_df = pd.DataFrame(similarity_array.tolist(), index=keywords.id, columns=['sim_score'])\n",
    "    meta_similiraty=similarity_df.merge(mov_meta,on='id',how='left')\n",
    "    top_hits = meta_similiraty.sort_values(by='sim_score',ascending=False)[:nb_hits]\n",
    "    \n",
    "    return top_hits[['sim_score','title','clean_genres','overview','release_date','runtime','vote_average']]"
   ]
  },
  {
   "cell_type": "code",
   "execution_count": 49,
   "metadata": {
    "hidden": true
   },
   "outputs": [
    {
     "data": {
      "text/html": [
       "<div>\n",
       "<style scoped>\n",
       "    .dataframe tbody tr th:only-of-type {\n",
       "        vertical-align: middle;\n",
       "    }\n",
       "\n",
       "    .dataframe tbody tr th {\n",
       "        vertical-align: top;\n",
       "    }\n",
       "\n",
       "    .dataframe thead th {\n",
       "        text-align: right;\n",
       "    }\n",
       "</style>\n",
       "<table border=\"1\" class=\"dataframe\">\n",
       "  <thead>\n",
       "    <tr style=\"text-align: right;\">\n",
       "      <th></th>\n",
       "      <th>sim_score</th>\n",
       "      <th>title</th>\n",
       "      <th>clean_genres</th>\n",
       "      <th>overview</th>\n",
       "      <th>release_date</th>\n",
       "      <th>runtime</th>\n",
       "      <th>vote_average</th>\n",
       "    </tr>\n",
       "  </thead>\n",
       "  <tbody>\n",
       "    <tr>\n",
       "      <th>0</th>\n",
       "      <td>0.615434</td>\n",
       "      <td>Toy Story</td>\n",
       "      <td>[Animation, Comedy, Family]</td>\n",
       "      <td>Led by Woody, Andy's toys live happily in his room until Andy's birthday brings Buzz Lightyear onto the scene. Afraid of losing his place in Andy's heart, Woody plots against Buzz. But when circumstances separate Buzz and Woody from their owner, the duo eventually learns to put aside their differences.</td>\n",
       "      <td>1995-10-30</td>\n",
       "      <td>81.0</td>\n",
       "      <td>7.7</td>\n",
       "    </tr>\n",
       "    <tr>\n",
       "      <th>24245</th>\n",
       "      <td>0.530232</td>\n",
       "      <td>NaN</td>\n",
       "      <td>NaN</td>\n",
       "      <td>NaN</td>\n",
       "      <td>NaN</td>\n",
       "      <td>NaN</td>\n",
       "      <td>NaN</td>\n",
       "    </tr>\n",
       "    <tr>\n",
       "      <th>26758</th>\n",
       "      <td>0.478325</td>\n",
       "      <td>The Adopted Son</td>\n",
       "      <td>[Drama]</td>\n",
       "      <td>In a Kyrgyz village, five older women adopt an infant foundling. Jump ahead about 12 years: the boy, Beshkempir, is entering puberty, the age, his granny says, when life goes berserk. He plays with friends, horsing around, sniggering about sex, going to an outdoor movie. He works, fishing and making bricks of mud. And, he's starting to notice girls. He and his best friend fight, and he learns to his consternation that he's a foundling. A death in the family pushes Beshkempir even faster towa...</td>\n",
       "      <td>1998-08-11</td>\n",
       "      <td>81.0</td>\n",
       "      <td>4.0</td>\n",
       "    </tr>\n",
       "    <tr>\n",
       "      <th>17670</th>\n",
       "      <td>0.442306</td>\n",
       "      <td>Mio in the Land of Faraway</td>\n",
       "      <td>[Adventure, Drama, Fantasy, Family, Mystery]</td>\n",
       "      <td>They're two best friends, a million miles from home. On an incredible adventure, beyond the boundaries of space and time. A fantasy about a lonely boy who is transferred from his dull life with his adoptive parents to the land where his real father is the king.</td>\n",
       "      <td>1987-07-01</td>\n",
       "      <td>99.0</td>\n",
       "      <td>6.3</td>\n",
       "    </tr>\n",
       "    <tr>\n",
       "      <th>11638</th>\n",
       "      <td>0.408355</td>\n",
       "      <td>Suzanne's Career</td>\n",
       "      <td>[Romance]</td>\n",
       "      <td>In the second of Rohmer's moral tales, he examines the relationship between two friends and a girl who at first appears easily exploited. It is a complex tale of feelings and misconceptions, acted out within the head of the main character, as part of Rohmer's attempt to more easily simulate the mindscape quality of literature within a film.</td>\n",
       "      <td>1963-02-01</td>\n",
       "      <td>54.0</td>\n",
       "      <td>5.4</td>\n",
       "    </tr>\n",
       "  </tbody>\n",
       "</table>\n",
       "</div>"
      ],
      "text/plain": [
       "       sim_score                       title  \\\n",
       "0       0.615434                   Toy Story   \n",
       "24245   0.530232                         NaN   \n",
       "26758   0.478325             The Adopted Son   \n",
       "17670   0.442306  Mio in the Land of Faraway   \n",
       "11638   0.408355            Suzanne's Career   \n",
       "\n",
       "                                       clean_genres  \\\n",
       "0                       [Animation, Comedy, Family]   \n",
       "24245                                           NaN   \n",
       "26758                                       [Drama]   \n",
       "17670  [Adventure, Drama, Fantasy, Family, Mystery]   \n",
       "11638                                     [Romance]   \n",
       "\n",
       "                                                                                                                                                                                                                                                                                                                                                                                                                                                                                                                  overview  \\\n",
       "0                                                                                                                                                                                                          Led by Woody, Andy's toys live happily in his room until Andy's birthday brings Buzz Lightyear onto the scene. Afraid of losing his place in Andy's heart, Woody plots against Buzz. But when circumstances separate Buzz and Woody from their owner, the duo eventually learns to put aside their differences.   \n",
       "24245                                                                                                                                                                                                                                                                                                                                                                                                                                                                                                                  NaN   \n",
       "26758  In a Kyrgyz village, five older women adopt an infant foundling. Jump ahead about 12 years: the boy, Beshkempir, is entering puberty, the age, his granny says, when life goes berserk. He plays with friends, horsing around, sniggering about sex, going to an outdoor movie. He works, fishing and making bricks of mud. And, he's starting to notice girls. He and his best friend fight, and he learns to his consternation that he's a foundling. A death in the family pushes Beshkempir even faster towa...   \n",
       "17670                                                                                                                                                                                                                                                They're two best friends, a million miles from home. On an incredible adventure, beyond the boundaries of space and time. A fantasy about a lonely boy who is transferred from his dull life with his adoptive parents to the land where his real father is the king.   \n",
       "11638                                                                                                                                                               In the second of Rohmer's moral tales, he examines the relationship between two friends and a girl who at first appears easily exploited. It is a complex tale of feelings and misconceptions, acted out within the head of the main character, as part of Rohmer's attempt to more easily simulate the mindscape quality of literature within a film.   \n",
       "\n",
       "      release_date  runtime  vote_average  \n",
       "0       1995-10-30     81.0           7.7  \n",
       "24245          NaN      NaN           NaN  \n",
       "26758   1998-08-11     81.0           4.0  \n",
       "17670   1987-07-01     99.0           6.3  \n",
       "11638   1963-02-01     54.0           5.4  "
      ]
     },
     "execution_count": 49,
     "metadata": {},
     "output_type": "execute_result"
    }
   ],
   "source": [
    "recommand_me(['jealousy', 'toy', 'boy', 'friendship', 'friends'],5)"
   ]
  },
  {
   "cell_type": "code",
   "execution_count": 50,
   "metadata": {
    "hidden": true
   },
   "outputs": [
    {
     "data": {
      "text/html": [
       "<div>\n",
       "<style scoped>\n",
       "    .dataframe tbody tr th:only-of-type {\n",
       "        vertical-align: middle;\n",
       "    }\n",
       "\n",
       "    .dataframe tbody tr th {\n",
       "        vertical-align: top;\n",
       "    }\n",
       "\n",
       "    .dataframe thead th {\n",
       "        text-align: right;\n",
       "    }\n",
       "</style>\n",
       "<table border=\"1\" class=\"dataframe\">\n",
       "  <thead>\n",
       "    <tr style=\"text-align: right;\">\n",
       "      <th></th>\n",
       "      <th>sim_score</th>\n",
       "      <th>title</th>\n",
       "      <th>clean_genres</th>\n",
       "      <th>overview</th>\n",
       "      <th>release_date</th>\n",
       "      <th>runtime</th>\n",
       "      <th>vote_average</th>\n",
       "    </tr>\n",
       "  </thead>\n",
       "  <tbody>\n",
       "    <tr>\n",
       "      <th>11638</th>\n",
       "      <td>0.503868</td>\n",
       "      <td>Suzanne's Career</td>\n",
       "      <td>[Romance]</td>\n",
       "      <td>In the second of Rohmer's moral tales, he examines the relationship between two friends and a girl who at first appears easily exploited. It is a complex tale of feelings and misconceptions, acted out within the head of the main character, as part of Rohmer's attempt to more easily simulate the mindscape quality of literature within a film.</td>\n",
       "      <td>1963-02-01</td>\n",
       "      <td>54.0</td>\n",
       "      <td>5.4</td>\n",
       "    </tr>\n",
       "    <tr>\n",
       "      <th>0</th>\n",
       "      <td>0.498772</td>\n",
       "      <td>Toy Story</td>\n",
       "      <td>[Animation, Comedy, Family]</td>\n",
       "      <td>Led by Woody, Andy's toys live happily in his room until Andy's birthday brings Buzz Lightyear onto the scene. Afraid of losing his place in Andy's heart, Woody plots against Buzz. But when circumstances separate Buzz and Woody from their owner, the duo eventually learns to put aside their differences.</td>\n",
       "      <td>1995-10-30</td>\n",
       "      <td>81.0</td>\n",
       "      <td>7.7</td>\n",
       "    </tr>\n",
       "    <tr>\n",
       "      <th>19929</th>\n",
       "      <td>0.425127</td>\n",
       "      <td>Toy Story That Time Forgot</td>\n",
       "      <td>[Animation, Family]</td>\n",
       "      <td>During a post-Christmas play date, the gang find themselves in uncharted territory when the coolest set of action figures ever turn out to be dangerously delusional. It's all up to Trixie, the triceratops, if the gang hopes to return to Bonnie's room in this Toy Story That Time Forgot.</td>\n",
       "      <td>2014-12-02</td>\n",
       "      <td>22.0</td>\n",
       "      <td>6.8</td>\n",
       "    </tr>\n",
       "    <tr>\n",
       "      <th>24</th>\n",
       "      <td>0.388183</td>\n",
       "      <td>Othello</td>\n",
       "      <td>[Drama]</td>\n",
       "      <td>The evil Iago pretends to be friend of Othello in order to manipulate him to serve his own end in the film version of this Shakespeare classic.</td>\n",
       "      <td>1995-12-15</td>\n",
       "      <td>123.0</td>\n",
       "      <td>7.0</td>\n",
       "    </tr>\n",
       "    <tr>\n",
       "      <th>24245</th>\n",
       "      <td>0.388051</td>\n",
       "      <td>NaN</td>\n",
       "      <td>NaN</td>\n",
       "      <td>NaN</td>\n",
       "      <td>NaN</td>\n",
       "      <td>NaN</td>\n",
       "      <td>NaN</td>\n",
       "    </tr>\n",
       "  </tbody>\n",
       "</table>\n",
       "</div>"
      ],
      "text/plain": [
       "       sim_score                       title                 clean_genres  \\\n",
       "11638   0.503868            Suzanne's Career                    [Romance]   \n",
       "0       0.498772                   Toy Story  [Animation, Comedy, Family]   \n",
       "19929   0.425127  Toy Story That Time Forgot          [Animation, Family]   \n",
       "24      0.388183                     Othello                      [Drama]   \n",
       "24245   0.388051                         NaN                          NaN   \n",
       "\n",
       "                                                                                                                                                                                                                                                                                                                                                     overview  \\\n",
       "11638  In the second of Rohmer's moral tales, he examines the relationship between two friends and a girl who at first appears easily exploited. It is a complex tale of feelings and misconceptions, acted out within the head of the main character, as part of Rohmer's attempt to more easily simulate the mindscape quality of literature within a film.   \n",
       "0                                             Led by Woody, Andy's toys live happily in his room until Andy's birthday brings Buzz Lightyear onto the scene. Afraid of losing his place in Andy's heart, Woody plots against Buzz. But when circumstances separate Buzz and Woody from their owner, the duo eventually learns to put aside their differences.   \n",
       "19929                                                          During a post-Christmas play date, the gang find themselves in uncharted territory when the coolest set of action figures ever turn out to be dangerously delusional. It's all up to Trixie, the triceratops, if the gang hopes to return to Bonnie's room in this Toy Story That Time Forgot.   \n",
       "24                                                                                                                                                                                                            The evil Iago pretends to be friend of Othello in order to manipulate him to serve his own end in the film version of this Shakespeare classic.   \n",
       "24245                                                                                                                                                                                                                                                                                                                                                     NaN   \n",
       "\n",
       "      release_date  runtime  vote_average  \n",
       "11638   1963-02-01     54.0           5.4  \n",
       "0       1995-10-30     81.0           7.7  \n",
       "19929   2014-12-02     22.0           6.8  \n",
       "24      1995-12-15    123.0           7.0  \n",
       "24245          NaN      NaN           NaN  "
      ]
     },
     "execution_count": 50,
     "metadata": {},
     "output_type": "execute_result"
    }
   ],
   "source": [
    "recommand_me(['toy','friends','jealousy'],5)"
   ]
  },
  {
   "cell_type": "markdown",
   "metadata": {
    "heading_collapsed": true
   },
   "source": [
    "# Tf-idf + Jaccard similarity"
   ]
  },
  {
   "cell_type": "code",
   "execution_count": 51,
   "metadata": {
    "hidden": true
   },
   "outputs": [],
   "source": [
    "def get_jaccard_sim(str1, str2): \n",
    "    a = set(str1) \n",
    "    b = set(str2)\n",
    "    c = a.intersection(b)\n",
    "    return float(len(c)) / (len(a) + len(b) - len(c))"
   ]
  },
  {
   "cell_type": "code",
   "execution_count": 52,
   "metadata": {
    "hidden": true
   },
   "outputs": [],
   "source": [
    "def jaccard_me(query,nb_hits):\n",
    "    \n",
    "    sim_series=keywords.clean_keyw.map(lambda x: get_jaccard_sim(x,query))\n",
    "    \n",
    "    similarity_df = pd.DataFrame(sim_series)\n",
    "    similarity_df.columns=['sim_score']\n",
    "    similarity_df.index=keywords.id\n",
    "    meta_similiraty=similarity_df.merge(mov_meta,on='id',how='left')\n",
    "    top_hits = meta_similiraty.sort_values(by='sim_score',ascending=False)[:nb_hits]\n",
    "    \n",
    "    return top_hits[['sim_score','title','clean_genres','overview','release_date','runtime','vote_average']]"
   ]
  },
  {
   "cell_type": "code",
   "execution_count": 53,
   "metadata": {
    "hidden": true
   },
   "outputs": [
    {
     "data": {
      "text/html": [
       "<div>\n",
       "<style scoped>\n",
       "    .dataframe tbody tr th:only-of-type {\n",
       "        vertical-align: middle;\n",
       "    }\n",
       "\n",
       "    .dataframe tbody tr th {\n",
       "        vertical-align: top;\n",
       "    }\n",
       "\n",
       "    .dataframe thead th {\n",
       "        text-align: right;\n",
       "    }\n",
       "</style>\n",
       "<table border=\"1\" class=\"dataframe\">\n",
       "  <thead>\n",
       "    <tr style=\"text-align: right;\">\n",
       "      <th></th>\n",
       "      <th>sim_score</th>\n",
       "      <th>title</th>\n",
       "      <th>clean_genres</th>\n",
       "      <th>overview</th>\n",
       "      <th>release_date</th>\n",
       "      <th>runtime</th>\n",
       "      <th>vote_average</th>\n",
       "    </tr>\n",
       "  </thead>\n",
       "  <tbody>\n",
       "    <tr>\n",
       "      <th>19507</th>\n",
       "      <td>0.200000</td>\n",
       "      <td>NaN</td>\n",
       "      <td>NaN</td>\n",
       "      <td>NaN</td>\n",
       "      <td>NaN</td>\n",
       "      <td>NaN</td>\n",
       "      <td>NaN</td>\n",
       "    </tr>\n",
       "    <tr>\n",
       "      <th>25461</th>\n",
       "      <td>0.200000</td>\n",
       "      <td>Heleno</td>\n",
       "      <td>[Drama]</td>\n",
       "      <td>José Henrique Fonseca crafts an ambitious and long overdue homage to a central icon in Brazil’s 20th century history. Reminiscent of film noir classics, the biopic tells the glorious and tragic story of the legendary football striker Heleno de Freitas. The sumptuous black and white cinematography reflects the chic life of Rio de Janeiro in the 1940s as it fell under the spell of sports royalty. Heleno was no doubt one of the most popular players of his time for his bravura in the field and ...</td>\n",
       "      <td>2012-03-29</td>\n",
       "      <td>116.0</td>\n",
       "      <td>5.7</td>\n",
       "    </tr>\n",
       "    <tr>\n",
       "      <th>24454</th>\n",
       "      <td>0.142857</td>\n",
       "      <td>Ronaldo</td>\n",
       "      <td>[History, Documentary]</td>\n",
       "      <td>Filmed over 14 months with unprecedented access into the inner circle of the man and the sport, this is the first official and fully authorised film of one of the most celebrated figures in football.  For the first time ever, the world gets vividly candid and un-paralleled, behind-closed-doors access to the footballer, father, family-man and friend in this moving &amp; fascinating documentary. Through in-depth conversations, state of the art football footage and never before seen archival footag...</td>\n",
       "      <td>2015-11-09</td>\n",
       "      <td>92.0</td>\n",
       "      <td>6.4</td>\n",
       "    </tr>\n",
       "    <tr>\n",
       "      <th>0</th>\n",
       "      <td>0.000000</td>\n",
       "      <td>Toy Story</td>\n",
       "      <td>[Animation, Comedy, Family]</td>\n",
       "      <td>Led by Woody, Andy's toys live happily in his room until Andy's birthday brings Buzz Lightyear onto the scene. Afraid of losing his place in Andy's heart, Woody plots against Buzz. But when circumstances separate Buzz and Woody from their owner, the duo eventually learns to put aside their differences.</td>\n",
       "      <td>1995-10-30</td>\n",
       "      <td>81.0</td>\n",
       "      <td>7.7</td>\n",
       "    </tr>\n",
       "    <tr>\n",
       "      <th>21080</th>\n",
       "      <td>0.000000</td>\n",
       "      <td>100 Years at the Movies</td>\n",
       "      <td>[Documentary]</td>\n",
       "      <td>Commemorates the centennial of American movies with a montage of clips and music scores from the most important movies of the century.</td>\n",
       "      <td>1994-12-31</td>\n",
       "      <td>9.0</td>\n",
       "      <td>8.0</td>\n",
       "    </tr>\n",
       "  </tbody>\n",
       "</table>\n",
       "</div>"
      ],
      "text/plain": [
       "       sim_score                    title                 clean_genres  \\\n",
       "19507   0.200000                      NaN                          NaN   \n",
       "25461   0.200000                   Heleno                      [Drama]   \n",
       "24454   0.142857                  Ronaldo       [History, Documentary]   \n",
       "0       0.000000                Toy Story  [Animation, Comedy, Family]   \n",
       "21080   0.000000  100 Years at the Movies                [Documentary]   \n",
       "\n",
       "                                                                                                                                                                                                                                                                                                                                                                                                                                                                                                                  overview  \\\n",
       "19507                                                                                                                                                                                                                                                                                                                                                                                                                                                                                                                  NaN   \n",
       "25461  José Henrique Fonseca crafts an ambitious and long overdue homage to a central icon in Brazil’s 20th century history. Reminiscent of film noir classics, the biopic tells the glorious and tragic story of the legendary football striker Heleno de Freitas. The sumptuous black and white cinematography reflects the chic life of Rio de Janeiro in the 1940s as it fell under the spell of sports royalty. Heleno was no doubt one of the most popular players of his time for his bravura in the field and ...   \n",
       "24454  Filmed over 14 months with unprecedented access into the inner circle of the man and the sport, this is the first official and fully authorised film of one of the most celebrated figures in football.  For the first time ever, the world gets vividly candid and un-paralleled, behind-closed-doors access to the footballer, father, family-man and friend in this moving & fascinating documentary. Through in-depth conversations, state of the art football footage and never before seen archival footag...   \n",
       "0                                                                                                                                                                                                          Led by Woody, Andy's toys live happily in his room until Andy's birthday brings Buzz Lightyear onto the scene. Afraid of losing his place in Andy's heart, Woody plots against Buzz. But when circumstances separate Buzz and Woody from their owner, the duo eventually learns to put aside their differences.   \n",
       "21080                                                                                                                                                                                                                                                                                                                                                                               Commemorates the centennial of American movies with a montage of clips and music scores from the most important movies of the century.   \n",
       "\n",
       "      release_date  runtime  vote_average  \n",
       "19507          NaN      NaN           NaN  \n",
       "25461   2012-03-29    116.0           5.7  \n",
       "24454   2015-11-09     92.0           6.4  \n",
       "0       1995-10-30     81.0           7.7  \n",
       "21080   1994-12-31      9.0           8.0  "
      ]
     },
     "execution_count": 53,
     "metadata": {},
     "output_type": "execute_result"
    }
   ],
   "source": [
    "jaccard_me(['etienne','football'],5)"
   ]
  },
  {
   "cell_type": "code",
   "execution_count": 54,
   "metadata": {
    "hidden": true
   },
   "outputs": [
    {
     "data": {
      "text/plain": [
       "id                                                                                                                                            16420\n",
       "keywords      [{'id': 497, 'name': 'shakespeare'}, {'id': 931, 'name': 'jealousy'}, {'id': 9713, 'name': 'friends'}, {'id': 17982, 'name': 'moor'}]\n",
       "clean_keyw                                                                                                   [shakespeare, jealousy, friends, moor]\n",
       "Name: 25, dtype: object"
      ]
     },
     "execution_count": 54,
     "metadata": {},
     "output_type": "execute_result"
    }
   ],
   "source": [
    "keywords.iloc[24]"
   ]
  },
  {
   "cell_type": "markdown",
   "metadata": {
    "hidden": true
   },
   "source": [
    "**The result seems ok but the problem is that there are too few keywords from the keywords table. Let's get keywords directly from the overview column of mov_meta.**"
   ]
  },
  {
   "cell_type": "markdown",
   "metadata": {},
   "source": [
    "# Using more keywords "
   ]
  },
  {
   "cell_type": "markdown",
   "metadata": {},
   "source": [
    "## Recommandations with input being a movie title "
   ]
  },
  {
   "cell_type": "code",
   "execution_count": 62,
   "metadata": {},
   "outputs": [],
   "source": [
    "from sklearn.feature_extraction.text import TfidfVectorizer\n",
    "\n",
    "tfidf_vector = TfidfVectorizer(stop_words='english')\n",
    "\n",
    "tfidf_matrix = tfidf_vector.fit_transform(mov_meta['overview']) "
   ]
  },
  {
   "cell_type": "code",
   "execution_count": 63,
   "metadata": {},
   "outputs": [],
   "source": [
    "tfidf=tfidf_vector.fit(mov_meta['overview'])"
   ]
  },
  {
   "cell_type": "code",
   "execution_count": 64,
   "metadata": {},
   "outputs": [],
   "source": [
    "from sklearn.metrics.pairwise import linear_kernel\n",
    "\n",
    "sim_matrix = linear_kernel(tfidf_matrix, tfidf_matrix) # calculates every similarity between movies "
   ]
  },
  {
   "cell_type": "code",
   "execution_count": 107,
   "metadata": {},
   "outputs": [],
   "source": [
    "def recommand_title(movie,nb_hits):\n",
    "    # Get movie index\n",
    "    idx=mov_meta.reset_index()[mov_meta.title==movie]['index'].item()\n",
    "    # Get its similarity scores for that movie in the similarity matrix\n",
    "    sim_scores=list(enumerate(sim_matrix[idx]))\n",
    "    # Sort them \n",
    "    sim_scores = sorted(sim_scores, key=lambda x: x[1], reverse=True)[1:nb_hits+1]\n",
    "    # Get the corresponding films\n",
    "    top_hits=mov_meta.iloc[[i[0] for i in sim_scores]]\n",
    "    \n",
    "    return top_hits[['title','clean_genres','overview','release_date','runtime','vote_average']]\n",
    "    "
   ]
  },
  {
   "cell_type": "code",
   "execution_count": 110,
   "metadata": {},
   "outputs": [
    {
     "data": {
      "text/html": [
       "<div>\n",
       "<style scoped>\n",
       "    .dataframe tbody tr th:only-of-type {\n",
       "        vertical-align: middle;\n",
       "    }\n",
       "\n",
       "    .dataframe tbody tr th {\n",
       "        vertical-align: top;\n",
       "    }\n",
       "\n",
       "    .dataframe thead th {\n",
       "        text-align: right;\n",
       "    }\n",
       "</style>\n",
       "<table border=\"1\" class=\"dataframe\">\n",
       "  <thead>\n",
       "    <tr style=\"text-align: right;\">\n",
       "      <th></th>\n",
       "      <th>title</th>\n",
       "      <th>clean_genres</th>\n",
       "      <th>overview</th>\n",
       "      <th>release_date</th>\n",
       "      <th>runtime</th>\n",
       "      <th>vote_average</th>\n",
       "    </tr>\n",
       "  </thead>\n",
       "  <tbody>\n",
       "    <tr>\n",
       "      <th>14468</th>\n",
       "      <td>Toy Story 3</td>\n",
       "      <td>[Animation, Family, Comedy]</td>\n",
       "      <td>Woody, Buzz, and the rest of Andy's toys haven't been played with in years. With Andy about to go to college, the gang find themselves accidentally left at a nefarious day care center. The toys must band together to escape and return home to Andy.</td>\n",
       "      <td>2010-06-16</td>\n",
       "      <td>103.0</td>\n",
       "      <td>7.6</td>\n",
       "    </tr>\n",
       "    <tr>\n",
       "      <th>2877</th>\n",
       "      <td>Toy Story 2</td>\n",
       "      <td>[Animation, Comedy, Family]</td>\n",
       "      <td>Andy heads off to Cowboy Camp, leaving his toys to their own devices. Things shift into high gear when an obsessive toy collector named Al McWhiggen, owner of Al's Toy Barn kidnaps Woody. Andy's toys mount a daring rescue mission, Buzz Lightyear meets his match and Woody has to decide where he and his heart truly belong.</td>\n",
       "      <td>1999-10-30</td>\n",
       "      <td>92.0</td>\n",
       "      <td>7.3</td>\n",
       "    </tr>\n",
       "    <tr>\n",
       "      <th>9827</th>\n",
       "      <td>The 40 Year Old Virgin</td>\n",
       "      <td>[Comedy, Romance]</td>\n",
       "      <td>Andy Stitzer has a pleasant life with a nice apartment and a job stamping invoices at an electronics store. But at age 40, there's one thing Andy hasn't done, and it's really bothering his sex-obsessed male co-workers: Andy is still a virgin. Determined to help Andy get laid, the guys make it their mission to de-virginize him. But it all seems hopeless until Andy meets small business owner Trish, a single mom.</td>\n",
       "      <td>2005-08-11</td>\n",
       "      <td>116.0</td>\n",
       "      <td>6.2</td>\n",
       "    </tr>\n",
       "    <tr>\n",
       "      <th>22399</th>\n",
       "      <td>Small Fry</td>\n",
       "      <td>[Animation, Family]</td>\n",
       "      <td>A fast food restaurant mini variant of Buzz forcibly switches places with the real Buzz and his friends have to deal with the obnoxious impostor.</td>\n",
       "      <td>2011-11-23</td>\n",
       "      <td>7.0</td>\n",
       "      <td>6.8</td>\n",
       "    </tr>\n",
       "    <tr>\n",
       "      <th>21827</th>\n",
       "      <td>Andy Hardy's Blonde Trouble</td>\n",
       "      <td>[Comedy, Family, Romance]</td>\n",
       "      <td>Andy is going to Wainwright College as did his father. He sees a pretty blonde on the train and he is alternately winked at or slapped every time he sees her. Andy is clueless. On the train Andy meets Kay and Dr. Standish who are both headed for Wainwright. Andy likes Kay, but Dr. Standish also seems to take an interest in her. Things are going well at College with Kay, but the blonde is nice one minute and ignores Andy the next. When Andy finds out that the blonde is really identical twins,...</td>\n",
       "      <td>1944-05-04</td>\n",
       "      <td>107.0</td>\n",
       "      <td>6.3</td>\n",
       "    </tr>\n",
       "  </tbody>\n",
       "</table>\n",
       "</div>"
      ],
      "text/plain": [
       "                             title                 clean_genres  \\\n",
       "14468                  Toy Story 3  [Animation, Family, Comedy]   \n",
       "2877                   Toy Story 2  [Animation, Comedy, Family]   \n",
       "9827        The 40 Year Old Virgin            [Comedy, Romance]   \n",
       "22399                    Small Fry          [Animation, Family]   \n",
       "21827  Andy Hardy's Blonde Trouble    [Comedy, Family, Romance]   \n",
       "\n",
       "                                                                                                                                                                                                                                                                                                                                                                                                                                                                                                                  overview  \\\n",
       "14468                                                                                                                                                                                                                                                              Woody, Buzz, and the rest of Andy's toys haven't been played with in years. With Andy about to go to college, the gang find themselves accidentally left at a nefarious day care center. The toys must band together to escape and return home to Andy.   \n",
       "2877                                                                                                                                                                                    Andy heads off to Cowboy Camp, leaving his toys to their own devices. Things shift into high gear when an obsessive toy collector named Al McWhiggen, owner of Al's Toy Barn kidnaps Woody. Andy's toys mount a daring rescue mission, Buzz Lightyear meets his match and Woody has to decide where he and his heart truly belong.   \n",
       "9827                                                                                         Andy Stitzer has a pleasant life with a nice apartment and a job stamping invoices at an electronics store. But at age 40, there's one thing Andy hasn't done, and it's really bothering his sex-obsessed male co-workers: Andy is still a virgin. Determined to help Andy get laid, the guys make it their mission to de-virginize him. But it all seems hopeless until Andy meets small business owner Trish, a single mom.   \n",
       "22399                                                                                                                                                                                                                                                                                                                                                                    A fast food restaurant mini variant of Buzz forcibly switches places with the real Buzz and his friends have to deal with the obnoxious impostor.   \n",
       "21827  Andy is going to Wainwright College as did his father. He sees a pretty blonde on the train and he is alternately winked at or slapped every time he sees her. Andy is clueless. On the train Andy meets Kay and Dr. Standish who are both headed for Wainwright. Andy likes Kay, but Dr. Standish also seems to take an interest in her. Things are going well at College with Kay, but the blonde is nice one minute and ignores Andy the next. When Andy finds out that the blonde is really identical twins,...   \n",
       "\n",
       "      release_date  runtime  vote_average  \n",
       "14468   2010-06-16    103.0           7.6  \n",
       "2877    1999-10-30     92.0           7.3  \n",
       "9827    2005-08-11    116.0           6.2  \n",
       "22399   2011-11-23      7.0           6.8  \n",
       "21827   1944-05-04    107.0           6.3  "
      ]
     },
     "execution_count": 110,
     "metadata": {},
     "output_type": "execute_result"
    }
   ],
   "source": [
    "recommand_title('Toy Story',5)"
   ]
  },
  {
   "cell_type": "markdown",
   "metadata": {},
   "source": [
    "## Recommandations with input being keywords"
   ]
  },
  {
   "cell_type": "code",
   "execution_count": 111,
   "metadata": {},
   "outputs": [
    {
     "name": "stderr",
     "output_type": "stream",
     "text": [
      "[nltk_data] Downloading package punkt to\n",
      "[nltk_data]     /Users/etienneleconte/nltk_data...\n",
      "[nltk_data]   Package punkt is already up-to-date!\n",
      "[nltk_data] Downloading package stopwords to\n",
      "[nltk_data]     /Users/etienneleconte/nltk_data...\n",
      "[nltk_data]   Package stopwords is already up-to-date!\n"
     ]
    }
   ],
   "source": [
    "import nltk\n",
    "from nltk.corpus import stopwords\n",
    "nltk.download('punkt')\n",
    "nltk.download('stopwords')\n",
    "from nltk.tokenize import word_tokenize"
   ]
  },
  {
   "cell_type": "code",
   "execution_count": 112,
   "metadata": {},
   "outputs": [],
   "source": [
    "def remove_sw(text):\n",
    "    lst_kw=[word for word in word_tokenize(text.lower()) if not word in stopw]\n",
    "    return lst_kw"
   ]
  },
  {
   "cell_type": "code",
   "execution_count": 113,
   "metadata": {},
   "outputs": [],
   "source": [
    "stopw = nltk.corpus.stopwords.words('english')\n",
    "stopw.extend(['s','-','.',',',\"'\",\"'s\"])"
   ]
  },
  {
   "cell_type": "code",
   "execution_count": 114,
   "metadata": {},
   "outputs": [],
   "source": [
    "mov_meta['keyw_ov']=mov_meta.overview.map(remove_sw)"
   ]
  },
  {
   "cell_type": "code",
   "execution_count": 115,
   "metadata": {},
   "outputs": [],
   "source": [
    "mov_meta['keyw_ov']=mov_meta['keyw_ov']+mov_meta['clean_genres']"
   ]
  },
  {
   "cell_type": "code",
   "execution_count": 116,
   "metadata": {},
   "outputs": [],
   "source": [
    "def lowerlist(x):\n",
    "    return [i.lower() for i in x]"
   ]
  },
  {
   "cell_type": "code",
   "execution_count": 117,
   "metadata": {},
   "outputs": [],
   "source": [
    "mov_meta['keyw_ov']=mov_meta['keyw_ov'].map(lowerlist)"
   ]
  },
  {
   "cell_type": "code",
   "execution_count": 118,
   "metadata": {},
   "outputs": [],
   "source": [
    "# Preparation \n",
    "dictionary=Dictionary(mov_meta['keyw_ov'])\n",
    "corpus = [dictionary.doc2bow(mov) for mov in mov_meta['keyw_ov']]\n",
    "tfidf = TfidfModel(corpus)\n",
    "sims = MatrixSimilarity(tfidf[corpus], num_features=len(dictionary))"
   ]
  },
  {
   "cell_type": "code",
   "execution_count": 119,
   "metadata": {},
   "outputs": [],
   "source": [
    "def recommand_me(query,nb_hits):\n",
    "    query_doc_bow = dictionary.doc2bow(query)\n",
    "    query_doc_tfidf = tfidf[query_doc_bow]\n",
    "    similarity_array = sims[query_doc_tfidf]\n",
    "    similarity_df = pd.DataFrame(similarity_array.tolist(), index=mov_meta.id, columns=['sim_score'])\n",
    "    meta_similiraty=similarity_df.merge(mov_meta,on='id',how='left')\n",
    "    top_hits = meta_similiraty.sort_values(by='sim_score',ascending=False)[:nb_hits]\n",
    "    \n",
    "    return top_hits[['sim_score','title','clean_genres','overview','release_date','runtime','vote_average']]"
   ]
  },
  {
   "cell_type": "code",
   "execution_count": 120,
   "metadata": {},
   "outputs": [
    {
     "data": {
      "text/html": [
       "<div>\n",
       "<style scoped>\n",
       "    .dataframe tbody tr th:only-of-type {\n",
       "        vertical-align: middle;\n",
       "    }\n",
       "\n",
       "    .dataframe tbody tr th {\n",
       "        vertical-align: top;\n",
       "    }\n",
       "\n",
       "    .dataframe thead th {\n",
       "        text-align: right;\n",
       "    }\n",
       "</style>\n",
       "<table border=\"1\" class=\"dataframe\">\n",
       "  <thead>\n",
       "    <tr style=\"text-align: right;\">\n",
       "      <th></th>\n",
       "      <th>sim_score</th>\n",
       "      <th>title</th>\n",
       "      <th>clean_genres</th>\n",
       "      <th>overview</th>\n",
       "      <th>release_date</th>\n",
       "      <th>runtime</th>\n",
       "      <th>vote_average</th>\n",
       "    </tr>\n",
       "  </thead>\n",
       "  <tbody>\n",
       "    <tr>\n",
       "      <th>32350</th>\n",
       "      <td>0.445270</td>\n",
       "      <td>Toy Reanimator</td>\n",
       "      <td>[Science Fiction, Fantasy]</td>\n",
       "      <td>Set in a toy store specialized in antique toys, a boy works in the toy store and is obsessed with tin toys. There's one particular tin toy he loves more than the rest. In walks a girl wearing shades, and starts telling her own story, a weird and fascinating experience she had with a toy.</td>\n",
       "      <td>2002-01-01</td>\n",
       "      <td>47.0</td>\n",
       "      <td>0.0</td>\n",
       "    </tr>\n",
       "    <tr>\n",
       "      <th>23382</th>\n",
       "      <td>0.358209</td>\n",
       "      <td>Silent Night, Deadly Night 5: The Toy Maker</td>\n",
       "      <td>[Horror, Science Fiction]</td>\n",
       "      <td>A young boy sees his father killed by a toy that was anonymously delivered to his house. After that, he is too traumatized to speak, and his mother must deal with both him and the loss of her husband. Meanwhile, a toy maker named Joe Peto builds some suspicious-looking toys, and a mysterious man creeps around both the toy store and the boy's house...but who is responsible for the killer toys?</td>\n",
       "      <td>1991-11-06</td>\n",
       "      <td>90.0</td>\n",
       "      <td>5.1</td>\n",
       "    </tr>\n",
       "    <tr>\n",
       "      <th>19333</th>\n",
       "      <td>0.358180</td>\n",
       "      <td>The Last Chance: Diary of Comedians</td>\n",
       "      <td>[Comedy]</td>\n",
       "      <td>The movie follows the life of an unpopular comedy duo. The duo, called \"Boso Swimmers\", have been working together for 12 years, but the duo sees little future in their comedy careers. They then begin to write their thoughts in a diary</td>\n",
       "      <td>2013-03-22</td>\n",
       "      <td>115.0</td>\n",
       "      <td>5.0</td>\n",
       "    </tr>\n",
       "    <tr>\n",
       "      <th>20221</th>\n",
       "      <td>0.302821</td>\n",
       "      <td>Toy Story of Terror!</td>\n",
       "      <td>[Animation, Comedy, Family]</td>\n",
       "      <td>What starts out as a fun road trip for the Toy Story gang takes an unexpected turn for the worse when the trip detours to a roadside motel. After one of the toys goes missing, the others find themselves caught up in a mysterious sequence of events that must be solved before they all suffer the same fate in this Toy Story of Terror.</td>\n",
       "      <td>2013-10-15</td>\n",
       "      <td>22.0</td>\n",
       "      <td>7.3</td>\n",
       "    </tr>\n",
       "    <tr>\n",
       "      <th>37576</th>\n",
       "      <td>0.279200</td>\n",
       "      <td>The Mouse and His Child</td>\n",
       "      <td>[Animation, Drama, Family]</td>\n",
       "      <td>The Mouse and his son are the two parts of a single small wind-up toy, which must be wound up by means of a key in the father's back. After having been unboxed, they discover themselves in a toy shop where they befriend a toy elephant and toy seal. The child mouse proposes staying at the shop to form a family, which the other toys ridicule. After falling from a counter and becoming broken, they are thrown in the trash. Outside, they become enslaved by Manny the Rat, who runs a casino in the ...</td>\n",
       "      <td>1977-11-18</td>\n",
       "      <td>83.0</td>\n",
       "      <td>5.8</td>\n",
       "    </tr>\n",
       "  </tbody>\n",
       "</table>\n",
       "</div>"
      ],
      "text/plain": [
       "       sim_score                                        title  \\\n",
       "32350   0.445270                               Toy Reanimator   \n",
       "23382   0.358209  Silent Night, Deadly Night 5: The Toy Maker   \n",
       "19333   0.358180          The Last Chance: Diary of Comedians   \n",
       "20221   0.302821                         Toy Story of Terror!   \n",
       "37576   0.279200                      The Mouse and His Child   \n",
       "\n",
       "                      clean_genres  \\\n",
       "32350   [Science Fiction, Fantasy]   \n",
       "23382    [Horror, Science Fiction]   \n",
       "19333                     [Comedy]   \n",
       "20221  [Animation, Comedy, Family]   \n",
       "37576   [Animation, Drama, Family]   \n",
       "\n",
       "                                                                                                                                                                                                                                                                                                                                                                                                                                                                                                                  overview  \\\n",
       "32350                                                                                                                                                                                                                     Set in a toy store specialized in antique toys, a boy works in the toy store and is obsessed with tin toys. There's one particular tin toy he loves more than the rest. In walks a girl wearing shades, and starts telling her own story, a weird and fascinating experience she had with a toy.   \n",
       "23382                                                                                                          A young boy sees his father killed by a toy that was anonymously delivered to his house. After that, he is too traumatized to speak, and his mother must deal with both him and the loss of her husband. Meanwhile, a toy maker named Joe Peto builds some suspicious-looking toys, and a mysterious man creeps around both the toy store and the boy's house...but who is responsible for the killer toys?   \n",
       "19333                                                                                                                                                                                                                                                                          The movie follows the life of an unpopular comedy duo. The duo, called \"Boso Swimmers\", have been working together for 12 years, but the duo sees little future in their comedy careers. They then begin to write their thoughts in a diary   \n",
       "20221                                                                                                                                                                        What starts out as a fun road trip for the Toy Story gang takes an unexpected turn for the worse when the trip detours to a roadside motel. After one of the toys goes missing, the others find themselves caught up in a mysterious sequence of events that must be solved before they all suffer the same fate in this Toy Story of Terror.   \n",
       "37576  The Mouse and his son are the two parts of a single small wind-up toy, which must be wound up by means of a key in the father's back. After having been unboxed, they discover themselves in a toy shop where they befriend a toy elephant and toy seal. The child mouse proposes staying at the shop to form a family, which the other toys ridicule. After falling from a counter and becoming broken, they are thrown in the trash. Outside, they become enslaved by Manny the Rat, who runs a casino in the ...   \n",
       "\n",
       "      release_date  runtime  vote_average  \n",
       "32350   2002-01-01     47.0           0.0  \n",
       "23382   1991-11-06     90.0           5.1  \n",
       "19333   2013-03-22    115.0           5.0  \n",
       "20221   2013-10-15     22.0           7.3  \n",
       "37576   1977-11-18     83.0           5.8  "
      ]
     },
     "execution_count": 120,
     "metadata": {},
     "output_type": "execute_result"
    }
   ],
   "source": [
    "recommand_me(['friends','toy','duo','aventure'],5)"
   ]
  },
  {
   "cell_type": "code",
   "execution_count": 121,
   "metadata": {},
   "outputs": [],
   "source": [
    "def jaccard_me(query,nb_hits):\n",
    "    \n",
    "    sim_series=mov_meta.keyw_ov.map(lambda x: get_jaccard_sim(x,query))\n",
    "    \n",
    "    similarity_df = pd.DataFrame(sim_series)\n",
    "    similarity_df.columns=['sim_score']\n",
    "    similarity_df.index=mov_meta.id\n",
    "    meta_similiraty=similarity_df.merge(mov_meta,on='id',how='left')\n",
    "    top_hits = meta_similiraty.sort_values(by='sim_score',ascending=False)[:nb_hits]\n",
    "    \n",
    "    return top_hits[['sim_score','title','clean_genres','overview','release_date','runtime','vote_average']]"
   ]
  },
  {
   "cell_type": "code",
   "execution_count": 122,
   "metadata": {},
   "outputs": [
    {
     "data": {
      "text/html": [
       "<div>\n",
       "<style scoped>\n",
       "    .dataframe tbody tr th:only-of-type {\n",
       "        vertical-align: middle;\n",
       "    }\n",
       "\n",
       "    .dataframe tbody tr th {\n",
       "        vertical-align: top;\n",
       "    }\n",
       "\n",
       "    .dataframe thead th {\n",
       "        text-align: right;\n",
       "    }\n",
       "</style>\n",
       "<table border=\"1\" class=\"dataframe\">\n",
       "  <thead>\n",
       "    <tr style=\"text-align: right;\">\n",
       "      <th></th>\n",
       "      <th>sim_score</th>\n",
       "      <th>title</th>\n",
       "      <th>clean_genres</th>\n",
       "      <th>overview</th>\n",
       "      <th>release_date</th>\n",
       "      <th>runtime</th>\n",
       "      <th>vote_average</th>\n",
       "    </tr>\n",
       "  </thead>\n",
       "  <tbody>\n",
       "    <tr>\n",
       "      <th>33690</th>\n",
       "      <td>0.100000</td>\n",
       "      <td>The Loner</td>\n",
       "      <td>[Action, Crime, Drama]</td>\n",
       "      <td>A cop is looking for the killer of his friend.</td>\n",
       "      <td>1987-03-18</td>\n",
       "      <td>100.0</td>\n",
       "      <td>5.7</td>\n",
       "    </tr>\n",
       "    <tr>\n",
       "      <th>26106</th>\n",
       "      <td>0.100000</td>\n",
       "      <td>Erkan &amp; Stefan 3</td>\n",
       "      <td>[Comedy]</td>\n",
       "      <td>The 3rd movie by the comedian duo Erkan and Stefan.</td>\n",
       "      <td>2005-05-19</td>\n",
       "      <td>97.0</td>\n",
       "      <td>3.8</td>\n",
       "    </tr>\n",
       "    <tr>\n",
       "      <th>32991</th>\n",
       "      <td>0.090909</td>\n",
       "      <td>Race Street</td>\n",
       "      <td>[Crime]</td>\n",
       "      <td>A night-club owner takes on the crooks who killed his best friend.</td>\n",
       "      <td>1948-09-11</td>\n",
       "      <td>79.0</td>\n",
       "      <td>5.7</td>\n",
       "    </tr>\n",
       "    <tr>\n",
       "      <th>6968</th>\n",
       "      <td>0.090909</td>\n",
       "      <td>Africa Screams</td>\n",
       "      <td>[Comedy]</td>\n",
       "      <td>When bookseller Buzz cons Diana into thinking that his friend Stanley knows all there is to know about Africa, they are abducted and ordered to lead Diana and her henchmen to an African tribe in search of a fortune in jewels.</td>\n",
       "      <td>1949-05-04</td>\n",
       "      <td>79.0</td>\n",
       "      <td>6.6</td>\n",
       "    </tr>\n",
       "    <tr>\n",
       "      <th>6991</th>\n",
       "      <td>0.090909</td>\n",
       "      <td>Envy</td>\n",
       "      <td>[Comedy]</td>\n",
       "      <td>A man becomes increasingly jealous of his friend's newfound success.</td>\n",
       "      <td>2004-04-30</td>\n",
       "      <td>99.0</td>\n",
       "      <td>4.8</td>\n",
       "    </tr>\n",
       "  </tbody>\n",
       "</table>\n",
       "</div>"
      ],
      "text/plain": [
       "       sim_score             title            clean_genres  \\\n",
       "33690   0.100000         The Loner  [Action, Crime, Drama]   \n",
       "26106   0.100000  Erkan & Stefan 3                [Comedy]   \n",
       "32991   0.090909       Race Street                 [Crime]   \n",
       "6968    0.090909    Africa Screams                [Comedy]   \n",
       "6991    0.090909              Envy                [Comedy]   \n",
       "\n",
       "                                                                                                                                                                                                                                overview  \\\n",
       "33690                                                                                                                                                                                     A cop is looking for the killer of his friend.   \n",
       "26106                                                                                                                                                                                The 3rd movie by the comedian duo Erkan and Stefan.   \n",
       "32991                                                                                                                                                                 A night-club owner takes on the crooks who killed his best friend.   \n",
       "6968   When bookseller Buzz cons Diana into thinking that his friend Stanley knows all there is to know about Africa, they are abducted and ordered to lead Diana and her henchmen to an African tribe in search of a fortune in jewels.   \n",
       "6991                                                                                                                                                                A man becomes increasingly jealous of his friend's newfound success.   \n",
       "\n",
       "      release_date  runtime  vote_average  \n",
       "33690   1987-03-18    100.0           5.7  \n",
       "26106   2005-05-19     97.0           3.8  \n",
       "32991   1948-09-11     79.0           5.7  \n",
       "6968    1949-05-04     79.0           6.6  \n",
       "6991    2004-04-30     99.0           4.8  "
      ]
     },
     "execution_count": 122,
     "metadata": {},
     "output_type": "execute_result"
    }
   ],
   "source": [
    "jaccard_me(['friend','toy','duo','buzz'],5)"
   ]
  },
  {
   "cell_type": "code",
   "execution_count": null,
   "metadata": {},
   "outputs": [],
   "source": []
  }
 ],
 "metadata": {
  "kernelspec": {
   "display_name": "Python 3",
   "language": "python",
   "name": "python3"
  },
  "language_info": {
   "codemirror_mode": {
    "name": "ipython",
    "version": 3
   },
   "file_extension": ".py",
   "mimetype": "text/x-python",
   "name": "python",
   "nbconvert_exporter": "python",
   "pygments_lexer": "ipython3",
   "version": "3.8.6"
  },
  "toc": {
   "base_numbering": 1,
   "nav_menu": {},
   "number_sections": true,
   "sideBar": true,
   "skip_h1_title": false,
   "title_cell": "Table of Contents",
   "title_sidebar": "Contents",
   "toc_cell": true,
   "toc_position": {},
   "toc_section_display": true,
   "toc_window_display": false
  }
 },
 "nbformat": 4,
 "nbformat_minor": 4
}
